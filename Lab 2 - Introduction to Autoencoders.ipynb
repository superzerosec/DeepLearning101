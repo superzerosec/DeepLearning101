{
 "cells": [
  {
   "cell_type": "markdown",
   "id": "40074ae4-1d80-4d0b-bf8d-72f40977117a",
   "metadata": {},
   "source": [
    "# Lab 2: Introduction to Autoencoders\n",
    "\n",
    "Welcome to a general overview of autoencoders. The idea of auto encoders is to allow a neural network to figure out how to best encode and decode certain data. The uses for autoencoders are really anything that you can think of where encoding could be useful. Some examples are in the form of compressing the number of input features and noise reduction.\n",
    "\n",
    "Deep neural networks are often quite good at taking huge amounts of data and filtering through it to find answers and learn from data, but sometimes a model can benefit from simpler input, which is usually in the form of pruning down some of the features that arent as important, or even combining them somehow.\n",
    "\n",
    "Autoencoders are an unsupervised learning approach to some of these issues and techniques.\n",
    "\n",
    "# Creating Base Model: Autoencoders\n",
    "\n",
    "To begin, we'll start with an example of both compression and augmentation. Compression is just taking some data that is of n size and attempting to make it smaller. Data augmentation can take many forms. In our case, we're going to take image data, pass it through some convolutional layers, flatten it to a vector of much less scalar data, and then show that we can take this small vector of values and decode it back to the original image representation.\n",
    "\n",
    "Recent advances in sequential data, for example with transformers, might be a reason why we'd first do this. A transformer wants to take in a vector of values, not an image.\n",
    "\n",
    "While you could certainly grayscale and flatten the image yourself, you'd still likely wish to compress this data down, but still keep a meaningful \"description\" of the data. You still could just append the same compression structure to the beginning of your models, and hope the model figures it out, or you can actually first train the encoder to do this exact thing, it will be much more likely to learn it better since this is the only task it's trying to fit to. Then you can append the encoder, without trainable parameters, to your transformer model, for example. This is one way that you could use typical transformer models on sequences of images and video data, but there are really many possibilities here. So let's see how it works by tinkering with some data.\n",
    "\n",
    "To begin, we'll make some imports and get a basic dataset."
   ]
  },
  {
   "cell_type": "code",
   "execution_count": 1,
   "id": "45af0b54-5f69-4e02-b4e3-ef4709d7d4ee",
   "metadata": {},
   "outputs": [],
   "source": [
    "import tensorflow as tf  \n",
    "from tensorflow import keras\n",
    "import cv2\n",
    "import numpy as np\n",
    "\n",
    "(x_train, y_train),(x_test, y_test) = tf.keras.datasets.mnist.load_data()  # loads the popular \"mnist\" training dataset\n",
    "\n",
    "x_train = x_train/255.0  # scales the data. pixel values range from 0 to 255, so this makes it range 0 to 1\n",
    "x_test = x_test/255.0  # scales the data. pixel values range from 0 to 255, so this makes it range 0 to 1"
   ]
  },
  {
   "cell_type": "markdown",
   "id": "289c2801-426b-49a4-8838-f41a230d0ebc",
   "metadata": {},
   "source": [
    "Next, we wish to build the encoder and decoder. Often, the encoder and decoder are mirror representations of eachother, but this isnt actually necessary. If we're doing compression, we'd like to make sure we can decompress back to the original image, so we need to make sure it decodes back to the starting input data, but whatever happens in between doesn't have to be a perfect match.\n",
    "\n",
    "Since we're using mnist, it's actually a fairly simple dataset. We can encode and decode this without much trouble at all, and it will give us the opportunity to show the bare minimum required for an autoencoder. Later, we can work with a more challenging dataset. In case you're not aware of what the mnist dataset is:"
   ]
  },
  {
   "cell_type": "code",
   "execution_count": 2,
   "id": "8309f96f-6bef-4288-ab78-09fe33e03c57",
   "metadata": {},
   "outputs": [
    {
     "data": {
      "text/plain": [
       "<matplotlib.image.AxesImage at 0x148d14410>"
      ]
     },
     "execution_count": 2,
     "metadata": {},
     "output_type": "execute_result"
    },
    {
     "data": {
      "image/png": "[encoded data removed]",
      "text/plain": [
       "<Figure size 640x480 with 1 Axes>"
      ]
     },
     "metadata": {},
     "output_type": "display_data"
    }
   ],
   "source": [
    "'''\n",
    "# can use cv2 or matplotlib for visualizing:\n",
    "\n",
    "cv2.imshow(\"example\", x_train[0])\n",
    "cv2.waitKey(1000)\n",
    "'''\n",
    "\n",
    "import matplotlib.pyplot as plt\n",
    "\n",
    "plt.imshow(x_train[0], cmap=\"gray\")"
   ]
  },
  {
   "cell_type": "code",
   "execution_count": 3,
   "id": "f8bb848c-928a-465d-ac07-7c8f41874531",
   "metadata": {},
   "outputs": [
    {
     "data": {
      "text/plain": [
       "<matplotlib.image.AxesImage at 0x148e67d10>"
      ]
     },
     "execution_count": 3,
     "metadata": {},
     "output_type": "execute_result"
    },
    {
     "data": {
      "image/png": "[encoded data removed]",
      "text/plain": [
       "<Figure size 640x480 with 1 Axes>"
      ]
     },
     "metadata": {},
     "output_type": "display_data"
    }
   ],
   "source": [
    "plt.imshow(x_train[1], cmap=\"gray\")"
   ]
  },
  {
   "cell_type": "markdown",
   "id": "c4de4260-ad3c-45a9-9bc9-60a7bcd37b39",
   "metadata": {},
   "source": [
    "The dataset consists of hand-written digits 0-9, usually used for classification, but we're going to use this dataset to learn about autoencoders!\n",
    "\n",
    "First, we'll cover compression. So this data is 28x28 in pixel values:"
   ]
  },
  {
   "cell_type": "code",
   "execution_count": 4,
   "id": "0684487e-741c-43af-80ff-47c7f8563785",
   "metadata": {},
   "outputs": [
    {
     "data": {
      "text/plain": [
       "array([[0.        , 0.        , 0.        , 0.        , 0.        ,\n",
       "        0.        , 0.        , 0.        , 0.        , 0.        ,\n",
       "        0.        , 0.        , 0.        , 0.        , 0.        ,\n",
       "        0.        , 0.        , 0.        , 0.        , 0.        ,\n",
       "        0.        , 0.        , 0.        , 0.        , 0.        ,\n",
       "        0.        , 0.        , 0.        ],\n",
       "       [0.        , 0.        , 0.        , 0.        , 0.        ,\n",
       "        0.        , 0.        , 0.        , 0.        , 0.        ,\n",
       "        0.        , 0.        , 0.        , 0.        , 0.        ,\n",
       "        0.        , 0.        , 0.        , 0.        , 0.        ,\n",
       "        0.        , 0.        , 0.        , 0.        , 0.        ,\n",
       "        0.        , 0.        , 0.        ],\n",
       "       [0.        , 0.        , 0.        , 0.        , 0.        ,\n",
       "        0.        , 0.        , 0.        , 0.        , 0.        ,\n",
       "        0.        , 0.        , 0.        , 0.        , 0.        ,\n",
       "        0.        , 0.        , 0.        , 0.        , 0.        ,\n",
       "        0.        , 0.        , 0.        , 0.        , 0.        ,\n",
       "        0.        , 0.        , 0.        ],\n",
       "       [0.        , 0.        , 0.        , 0.        , 0.        ,\n",
       "        0.        , 0.        , 0.        , 0.        , 0.        ,\n",
       "        0.        , 0.        , 0.        , 0.        , 0.        ,\n",
       "        0.        , 0.        , 0.        , 0.        , 0.        ,\n",
       "        0.        , 0.        , 0.        , 0.        , 0.        ,\n",
       "        0.        , 0.        , 0.        ],\n",
       "       [0.        , 0.        , 0.        , 0.        , 0.        ,\n",
       "        0.        , 0.        , 0.        , 0.        , 0.        ,\n",
       "        0.        , 0.        , 0.        , 0.        , 0.        ,\n",
       "        0.        , 0.        , 0.        , 0.        , 0.        ,\n",
       "        0.        , 0.        , 0.        , 0.        , 0.        ,\n",
       "        0.        , 0.        , 0.        ],\n",
       "       [0.        , 0.        , 0.        , 0.        , 0.        ,\n",
       "        0.        , 0.        , 0.        , 0.        , 0.        ,\n",
       "        0.        , 0.        , 0.01176471, 0.07058824, 0.07058824,\n",
       "        0.07058824, 0.49411765, 0.53333333, 0.68627451, 0.10196078,\n",
       "        0.65098039, 1.        , 0.96862745, 0.49803922, 0.        ,\n",
       "        0.        , 0.        , 0.        ],\n",
       "       [0.        , 0.        , 0.        , 0.        , 0.        ,\n",
       "        0.        , 0.        , 0.        , 0.11764706, 0.14117647,\n",
       "        0.36862745, 0.60392157, 0.66666667, 0.99215686, 0.99215686,\n",
       "        0.99215686, 0.99215686, 0.99215686, 0.88235294, 0.6745098 ,\n",
       "        0.99215686, 0.94901961, 0.76470588, 0.25098039, 0.        ,\n",
       "        0.        , 0.        , 0.        ],\n",
       "       [0.        , 0.        , 0.        , 0.        , 0.        ,\n",
       "        0.        , 0.        , 0.19215686, 0.93333333, 0.99215686,\n",
       "        0.99215686, 0.99215686, 0.99215686, 0.99215686, 0.99215686,\n",
       "        0.99215686, 0.99215686, 0.98431373, 0.36470588, 0.32156863,\n",
       "        0.32156863, 0.21960784, 0.15294118, 0.        , 0.        ,\n",
       "        0.        , 0.        , 0.        ],\n",
       "       [0.        , 0.        , 0.        , 0.        , 0.        ,\n",
       "        0.        , 0.        , 0.07058824, 0.85882353, 0.99215686,\n",
       "        0.99215686, 0.99215686, 0.99215686, 0.99215686, 0.77647059,\n",
       "        0.71372549, 0.96862745, 0.94509804, 0.        , 0.        ,\n",
       "        0.        , 0.        , 0.        , 0.        , 0.        ,\n",
       "        0.        , 0.        , 0.        ],\n",
       "       [0.        , 0.        , 0.        , 0.        , 0.        ,\n",
       "        0.        , 0.        , 0.        , 0.31372549, 0.61176471,\n",
       "        0.41960784, 0.99215686, 0.99215686, 0.80392157, 0.04313725,\n",
       "        0.        , 0.16862745, 0.60392157, 0.        , 0.        ,\n",
       "        0.        , 0.        , 0.        , 0.        , 0.        ,\n",
       "        0.        , 0.        , 0.        ],\n",
       "       [0.        , 0.        , 0.        , 0.        , 0.        ,\n",
       "        0.        , 0.        , 0.        , 0.        , 0.05490196,\n",
       "        0.00392157, 0.60392157, 0.99215686, 0.35294118, 0.        ,\n",
       "        0.        , 0.        , 0.        , 0.        , 0.        ,\n",
       "        0.        , 0.        , 0.        , 0.        , 0.        ,\n",
       "        0.        , 0.        , 0.        ],\n",
       "       [0.        , 0.        , 0.        , 0.        , 0.        ,\n",
       "        0.        , 0.        , 0.        , 0.        , 0.        ,\n",
       "        0.        , 0.54509804, 0.99215686, 0.74509804, 0.00784314,\n",
       "        0.        , 0.        , 0.        , 0.        , 0.        ,\n",
       "        0.        , 0.        , 0.        , 0.        , 0.        ,\n",
       "        0.        , 0.        , 0.        ],\n",
       "       [0.        , 0.        , 0.        , 0.        , 0.        ,\n",
       "        0.        , 0.        , 0.        , 0.        , 0.        ,\n",
       "        0.        , 0.04313725, 0.74509804, 0.99215686, 0.2745098 ,\n",
       "        0.        , 0.        , 0.        , 0.        , 0.        ,\n",
       "        0.        , 0.        , 0.        , 0.        , 0.        ,\n",
       "        0.        , 0.        , 0.        ],\n",
       "       [0.        , 0.        , 0.        , 0.        , 0.        ,\n",
       "        0.        , 0.        , 0.        , 0.        , 0.        ,\n",
       "        0.        , 0.        , 0.1372549 , 0.94509804, 0.88235294,\n",
       "        0.62745098, 0.42352941, 0.00392157, 0.        , 0.        ,\n",
       "        0.        , 0.        , 0.        , 0.        , 0.        ,\n",
       "        0.        , 0.        , 0.        ],\n",
       "       [0.        , 0.        , 0.        , 0.        , 0.        ,\n",
       "        0.        , 0.        , 0.        , 0.        , 0.        ,\n",
       "        0.        , 0.        , 0.        , 0.31764706, 0.94117647,\n",
       "        0.99215686, 0.99215686, 0.46666667, 0.09803922, 0.        ,\n",
       "        0.        , 0.        , 0.        , 0.        , 0.        ,\n",
       "        0.        , 0.        , 0.        ],\n",
       "       [0.        , 0.        , 0.        , 0.        , 0.        ,\n",
       "        0.        , 0.        , 0.        , 0.        , 0.        ,\n",
       "        0.        , 0.        , 0.        , 0.        , 0.17647059,\n",
       "        0.72941176, 0.99215686, 0.99215686, 0.58823529, 0.10588235,\n",
       "        0.        , 0.        , 0.        , 0.        , 0.        ,\n",
       "        0.        , 0.        , 0.        ],\n",
       "       [0.        , 0.        , 0.        , 0.        , 0.        ,\n",
       "        0.        , 0.        , 0.        , 0.        , 0.        ,\n",
       "        0.        , 0.        , 0.        , 0.        , 0.        ,\n",
       "        0.0627451 , 0.36470588, 0.98823529, 0.99215686, 0.73333333,\n",
       "        0.        , 0.        , 0.        , 0.        , 0.        ,\n",
       "        0.        , 0.        , 0.        ],\n",
       "       [0.        , 0.        , 0.        , 0.        , 0.        ,\n",
       "        0.        , 0.        , 0.        , 0.        , 0.        ,\n",
       "        0.        , 0.        , 0.        , 0.        , 0.        ,\n",
       "        0.        , 0.        , 0.97647059, 0.99215686, 0.97647059,\n",
       "        0.25098039, 0.        , 0.        , 0.        , 0.        ,\n",
       "        0.        , 0.        , 0.        ],\n",
       "       [0.        , 0.        , 0.        , 0.        , 0.        ,\n",
       "        0.        , 0.        , 0.        , 0.        , 0.        ,\n",
       "        0.        , 0.        , 0.        , 0.        , 0.18039216,\n",
       "        0.50980392, 0.71764706, 0.99215686, 0.99215686, 0.81176471,\n",
       "        0.00784314, 0.        , 0.        , 0.        , 0.        ,\n",
       "        0.        , 0.        , 0.        ],\n",
       "       [0.        , 0.        , 0.        , 0.        , 0.        ,\n",
       "        0.        , 0.        , 0.        , 0.        , 0.        ,\n",
       "        0.        , 0.        , 0.15294118, 0.58039216, 0.89803922,\n",
       "        0.99215686, 0.99215686, 0.99215686, 0.98039216, 0.71372549,\n",
       "        0.        , 0.        , 0.        , 0.        , 0.        ,\n",
       "        0.        , 0.        , 0.        ],\n",
       "       [0.        , 0.        , 0.        , 0.        , 0.        ,\n",
       "        0.        , 0.        , 0.        , 0.        , 0.        ,\n",
       "        0.09411765, 0.44705882, 0.86666667, 0.99215686, 0.99215686,\n",
       "        0.99215686, 0.99215686, 0.78823529, 0.30588235, 0.        ,\n",
       "        0.        , 0.        , 0.        , 0.        , 0.        ,\n",
       "        0.        , 0.        , 0.        ],\n",
       "       [0.        , 0.        , 0.        , 0.        , 0.        ,\n",
       "        0.        , 0.        , 0.        , 0.09019608, 0.25882353,\n",
       "        0.83529412, 0.99215686, 0.99215686, 0.99215686, 0.99215686,\n",
       "        0.77647059, 0.31764706, 0.00784314, 0.        , 0.        ,\n",
       "        0.        , 0.        , 0.        , 0.        , 0.        ,\n",
       "        0.        , 0.        , 0.        ],\n",
       "       [0.        , 0.        , 0.        , 0.        , 0.        ,\n",
       "        0.        , 0.07058824, 0.67058824, 0.85882353, 0.99215686,\n",
       "        0.99215686, 0.99215686, 0.99215686, 0.76470588, 0.31372549,\n",
       "        0.03529412, 0.        , 0.        , 0.        , 0.        ,\n",
       "        0.        , 0.        , 0.        , 0.        , 0.        ,\n",
       "        0.        , 0.        , 0.        ],\n",
       "       [0.        , 0.        , 0.        , 0.        , 0.21568627,\n",
       "        0.6745098 , 0.88627451, 0.99215686, 0.99215686, 0.99215686,\n",
       "        0.99215686, 0.95686275, 0.52156863, 0.04313725, 0.        ,\n",
       "        0.        , 0.        , 0.        , 0.        , 0.        ,\n",
       "        0.        , 0.        , 0.        , 0.        , 0.        ,\n",
       "        0.        , 0.        , 0.        ],\n",
       "       [0.        , 0.        , 0.        , 0.        , 0.53333333,\n",
       "        0.99215686, 0.99215686, 0.99215686, 0.83137255, 0.52941176,\n",
       "        0.51764706, 0.0627451 , 0.        , 0.        , 0.        ,\n",
       "        0.        , 0.        , 0.        , 0.        , 0.        ,\n",
       "        0.        , 0.        , 0.        , 0.        , 0.        ,\n",
       "        0.        , 0.        , 0.        ],\n",
       "       [0.        , 0.        , 0.        , 0.        , 0.        ,\n",
       "        0.        , 0.        , 0.        , 0.        , 0.        ,\n",
       "        0.        , 0.        , 0.        , 0.        , 0.        ,\n",
       "        0.        , 0.        , 0.        , 0.        , 0.        ,\n",
       "        0.        , 0.        , 0.        , 0.        , 0.        ,\n",
       "        0.        , 0.        , 0.        ],\n",
       "       [0.        , 0.        , 0.        , 0.        , 0.        ,\n",
       "        0.        , 0.        , 0.        , 0.        , 0.        ,\n",
       "        0.        , 0.        , 0.        , 0.        , 0.        ,\n",
       "        0.        , 0.        , 0.        , 0.        , 0.        ,\n",
       "        0.        , 0.        , 0.        , 0.        , 0.        ,\n",
       "        0.        , 0.        , 0.        ],\n",
       "       [0.        , 0.        , 0.        , 0.        , 0.        ,\n",
       "        0.        , 0.        , 0.        , 0.        , 0.        ,\n",
       "        0.        , 0.        , 0.        , 0.        , 0.        ,\n",
       "        0.        , 0.        , 0.        , 0.        , 0.        ,\n",
       "        0.        , 0.        , 0.        , 0.        , 0.        ,\n",
       "        0.        , 0.        , 0.        ]])"
      ]
     },
     "execution_count": 4,
     "metadata": {},
     "output_type": "execute_result"
    }
   ],
   "source": [
    "x_train[0]"
   ]
  },
  {
   "cell_type": "code",
   "execution_count": 5,
   "id": "dd157d11-147c-49c5-bf88-9aded9e9cb96",
   "metadata": {},
   "outputs": [
    {
     "data": {
      "text/plain": [
       "(28, 28)"
      ]
     },
     "execution_count": 5,
     "metadata": {},
     "output_type": "execute_result"
    }
   ],
   "source": [
    "x_train[0].shape"
   ]
  },
  {
   "cell_type": "code",
   "execution_count": 6,
   "id": "da21a3dd-0d89-4055-9989-60019bafe577",
   "metadata": {},
   "outputs": [
    {
     "data": {
      "text/plain": [
       "784"
      ]
     },
     "execution_count": 6,
     "metadata": {},
     "output_type": "execute_result"
    }
   ],
   "source": [
    "28*28"
   ]
  },
  {
   "cell_type": "markdown",
   "id": "4f008dc7-bb31-43f4-a907-f2f1cfbd53bb",
   "metadata": {},
   "source": [
    "Since the data is 28x28 pixel values, our data is 784 values, and the question first is... can we condense this amount of data down?\n",
    "\n",
    "Again, why might we want to even do this? Take for example a classifier model. Initially, it's going to be taking in all 784 values, and it's going to first have to figure out which values actually matter, and which dont. For example, with this dataset, most of the times the values in the corners of the image are always going to be 0 and thus irrelevant. It's really in the minority of cases where the values actually matter in the case of the MNIST dataset, which is why this problem is actually extremely simple for neural networks to solve, and why this dataset actually makes for a great one to exemplify what autoencoders can do for us!\n",
    "\n",
    "To begin, we'll start by making our encoder. After the encoder, we will build the decoder, and these two models together make our autoencoder.\n",
    "\n",
    "The encoder begins with the input layer:"
   ]
  },
  {
   "cell_type": "code",
   "execution_count": 7,
   "id": "1e7efe94-ccf5-4c5f-9543-5a66954e89b7",
   "metadata": {},
   "outputs": [],
   "source": [
    "encoder_input = keras.Input(shape=(28, 28, 1), name='img')"
   ]
  },
  {
   "cell_type": "markdown",
   "id": "7d0dd5f4-c5be-4a52-a1f9-ab8ff777337f",
   "metadata": {},
   "source": [
    "Next, we'll just immediately flatten the data so it can be used with dense layers. Being an image, we could also use convolutional layers. Most image data is going to work best with, or even require, convolutional layers to some extent, then we could flatten them. In this case, however, it wont be required due to the simplicity of this dataset."
   ]
  },
  {
   "cell_type": "code",
   "execution_count": 8,
   "id": "7668abe2-8f25-46bc-b6d9-45a1fba304ea",
   "metadata": {},
   "outputs": [],
   "source": [
    "x = keras.layers.Flatten()(encoder_input)"
   ]
  },
  {
   "cell_type": "markdown",
   "id": "0dcc5e4f-6803-4450-961a-1c78b368f4c2",
   "metadata": {},
   "source": [
    "In fact, we can go straight to compression after flattening:"
   ]
  },
  {
   "cell_type": "code",
   "execution_count": 9,
   "id": "b0031de3-11c5-484d-ba91-6b5cbc3b3f83",
   "metadata": {},
   "outputs": [],
   "source": [
    "encoder_output = keras.layers.Dense(64, activation=\"relu\")(x)"
   ]
  },
  {
   "cell_type": "markdown",
   "id": "0819f8df-b4ad-4682-a70e-8fa5fa1ac4be",
   "metadata": {},
   "source": [
    "That's it. So all this model does is take input of 28x28, flatten to a vector of 784 values, then go to a fully-connected dense layer of a mere 64 values."
   ]
  },
  {
   "cell_type": "code",
   "execution_count": 10,
   "id": "adf2f6eb-3d0e-424b-98ff-5aa81da72ffc",
   "metadata": {},
   "outputs": [
    {
     "data": {
      "text/plain": [
       "0.08163265306122448"
      ]
     },
     "execution_count": 10,
     "metadata": {},
     "output_type": "execute_result"
    }
   ],
   "source": [
    "64/784"
   ]
  },
  {
   "cell_type": "markdown",
   "id": "c56e2e09-3900-469b-99c3-722ba0324e2c",
   "metadata": {},
   "source": [
    "Should this work, that would mean we've compressed to a mere 8% of the original data. The \"auto\" part of this encoder is the dense neural network layer, and the weights/biases associated, which are going to be responsible for figuring out how to best compress these values.\n",
    "\n",
    "With that, we're actually done with our encoder already:"
   ]
  },
  {
   "cell_type": "code",
   "execution_count": 11,
   "id": "1b3e6f2c-7e68-41f4-83f7-3a53a96eb183",
   "metadata": {},
   "outputs": [],
   "source": [
    "encoder = keras.Model(encoder_input, encoder_output, name='encoder')"
   ]
  },
  {
   "cell_type": "markdown",
   "id": "b87ca65a-bdb2-4360-8d76-6866f20d1882",
   "metadata": {},
   "source": [
    "Now, we want to define our decoder. The decoder's job is going to be to take this vector of 64 (at the moment) values and then \"decompress\" it back to the original image.\n",
    "\n",
    "As mentioned earlier, the decoder is often a mirror representation of the encoder, but this isn't essential. In the case of images, you will need to take care with pooling layers, so as to make sure that you upsample to the same resolution, but, again, this only needs to end at the same target as the input, and how you get there can be unique. For now, we'll match the encoder by starting with a dense layer of 64 values:"
   ]
  },
  {
   "cell_type": "code",
   "execution_count": 12,
   "id": "87bdba43-b456-4004-85a0-44453cbf9f85",
   "metadata": {},
   "outputs": [],
   "source": [
    "decoder_input = keras.layers.Dense(64, activation=\"relu\")(encoder_output)"
   ]
  },
  {
   "cell_type": "markdown",
   "id": "f4925be9-8871-4aa8-96b4-ebd71b8c105e",
   "metadata": {},
   "source": [
    "This layer is probably not even required, but we'll add it in since more challenging problems will need some sort of extra layer. From here, we've got 64 values, but 64 values isn't our 28x28 image. How do we get back to that? First off, we need 784 values. We might as well let our neural network figure that out for us, so we'll just make a dense layer of 784 values."
   ]
  },
  {
   "cell_type": "code",
   "execution_count": 13,
   "id": "6ff1650b-945b-4df4-b9cc-7e25c6dca370",
   "metadata": {},
   "outputs": [],
   "source": [
    "x = keras.layers.Dense(784, activation=\"relu\")(decoder_input)"
   ]
  },
  {
   "cell_type": "markdown",
   "id": "df69903f-9477-4c7f-9303-af76246f4432",
   "metadata": {},
   "source": [
    "Finally, our image isn't a vector of 784 values, it's a 2D array of 28 x 28 values, so we'll throw that into our model as the output in the form of a reshape:"
   ]
  },
  {
   "cell_type": "code",
   "execution_count": 14,
   "id": "9d29f474-4d0a-4b7f-9345-9879d3abf522",
   "metadata": {},
   "outputs": [],
   "source": [
    "decoder_output = keras.layers.Reshape((28, 28, 1))(x)"
   ]
  },
  {
   "cell_type": "markdown",
   "id": "41960946-463a-40be-8f1f-c85a662d760c",
   "metadata": {},
   "source": [
    "Now we have our decoder model done. In the case of compression, it might be possible that you'd actually use a deep neural network to compress information for the purposes of decompressing it later, but this isn't really the use-case with neural networks.\n",
    "\n",
    "In general the idea is to make the job of learning some task for a neural network easier by first simplifying and \"denoising\" the input. For example, if our autoencoder works, it means that we were able to take 784 input values and condense them to just 64. 64 input features is going to be far easier for a neural network to build a classifier from than 784, so long as those 64 features are just as, or almost as, descriptive as the 784, and that's essentially what our autoencoder is attempting to figure out.\n",
    "\n",
    "Now that the model architecture is done, we'll set an optimizer:"
   ]
  },
  {
   "cell_type": "code",
   "execution_count": 15,
   "id": "b29a8abf-335a-48b4-aa30-da4208a12efc",
   "metadata": {},
   "outputs": [],
   "source": [
    "opt = tf.keras.optimizers.Adam(learning_rate=0.001, weight_decay=1e-6)"
   ]
  },
  {
   "cell_type": "markdown",
   "id": "d5618402-b94b-4f14-80d5-7d0e4841e006",
   "metadata": {},
   "source": [
    "We'll also combine this encoder and decoder into a singular \"autoencoder\" model:"
   ]
  },
  {
   "cell_type": "code",
   "execution_count": 16,
   "id": "d6d78bce-b4e5-4841-8b75-4988d8d173cf",
   "metadata": {},
   "outputs": [],
   "source": [
    "autoencoder = keras.Model(encoder_input, decoder_output, name='autoencoder')"
   ]
  },
  {
   "cell_type": "markdown",
   "id": "fb40c254-5e9f-4547-b3fd-1e008f296c62",
   "metadata": {},
   "source": [
    "We can inspect our created model:"
   ]
  },
  {
   "cell_type": "code",
   "execution_count": 17,
   "id": "e2ce5491-843a-4c58-9a33-7ad59e5781fb",
   "metadata": {},
   "outputs": [
    {
     "name": "stdout",
     "output_type": "stream",
     "text": [
      "Model: \"autoencoder\"\n",
      "_________________________________________________________________\n",
      " Layer (type)                Output Shape              Param #   \n",
      "=================================================================\n",
      " img (InputLayer)            [(None, 28, 28, 1)]       0         \n",
      "                                                                 \n",
      " flatten (Flatten)           (None, 784)               0         \n",
      "                                                                 \n",
      " dense (Dense)               (None, 64)                50240     \n",
      "                                                                 \n",
      " dense_1 (Dense)             (None, 64)                4160      \n",
      "                                                                 \n",
      " dense_2 (Dense)             (None, 784)               50960     \n",
      "                                                                 \n",
      " reshape (Reshape)           (None, 28, 28, 1)         0         \n",
      "                                                                 \n",
      "=================================================================\n",
      "Total params: 105360 (411.56 KB)\n",
      "Trainable params: 105360 (411.56 KB)\n",
      "Non-trainable params: 0 (0.00 Byte)\n",
      "_________________________________________________________________\n"
     ]
    }
   ],
   "source": [
    "autoencoder.summary()"
   ]
  },
  {
   "cell_type": "markdown",
   "id": "c097505b-0911-4c62-8f40-323840d4dc7a",
   "metadata": {},
   "source": [
    "In the case of an autoencoder, our input is usually going to need to match the full model output. So our input layer data was the 28x28 image:\n",
    "\n",
    "```\n",
    "img (InputLayer) [(None, 28, 28, 1)] 0\n",
    "```\n",
    "\n",
    "And then we can see the output reshape layer is:\n",
    "\n",
    "```\n",
    "reshape (Reshape) (None, 28, 28, 1) 0\n",
    "```\n",
    "\n",
    "So this model will return to us the same shape of data, and we're hoping its a picture that is the same as our input was, which means our bottleneck of 64 values was a successful compression.\n",
    "\n",
    "We'll now compile our model with the optimizer and a loss metric. We'll use mean squared error for loss (mse)."
   ]
  },
  {
   "cell_type": "code",
   "execution_count": 18,
   "id": "c83fe366-4c1f-46a3-935a-a6c2c3c5a9cf",
   "metadata": {},
   "outputs": [],
   "source": [
    "autoencoder.compile(opt, loss='mse')"
   ]
  },
  {
   "cell_type": "markdown",
   "id": "8cb162e4-b2b1-4e85-a755-5fdaa58e3040",
   "metadata": {},
   "source": [
    "We're ready to train, so we'll specify some epochs and save our model each time:"
   ]
  },
  {
   "cell_type": "code",
   "execution_count": 19,
   "id": "c4c6df22-6cf1-4c9f-aa44-4038c03aa934",
   "metadata": {},
   "outputs": [
    {
     "name": "stdout",
     "output_type": "stream",
     "text": [
      "1688/1688 [==============================] - 2s 977us/step - loss: 0.0222 - val_loss: 0.0153\n",
      "INFO:tensorflow:Assets written to: models/AE-1.model/assets\n"
     ]
    },
    {
     "name": "stderr",
     "output_type": "stream",
     "text": [
      "INFO:tensorflow:Assets written to: models/AE-1.model/assets\n"
     ]
    },
    {
     "name": "stdout",
     "output_type": "stream",
     "text": [
      "1688/1688 [==============================] - 2s 975us/step - loss: 0.0146 - val_loss: 0.0138\n",
      "INFO:tensorflow:Assets written to: models/AE-2.model/assets\n"
     ]
    },
    {
     "name": "stderr",
     "output_type": "stream",
     "text": [
      "INFO:tensorflow:Assets written to: models/AE-2.model/assets\n"
     ]
    },
    {
     "name": "stdout",
     "output_type": "stream",
     "text": [
      "1688/1688 [==============================] - 2s 985us/step - loss: 0.0136 - val_loss: 0.0132\n",
      "INFO:tensorflow:Assets written to: models/AE-3.model/assets\n"
     ]
    },
    {
     "name": "stderr",
     "output_type": "stream",
     "text": [
      "INFO:tensorflow:Assets written to: models/AE-3.model/assets\n"
     ]
    }
   ],
   "source": [
    "epochs=3\n",
    "\n",
    "for epoch in range(epochs):\n",
    "\n",
    "    history = autoencoder.fit(\n",
    "      x_train,\n",
    "      x_train,\n",
    "      epochs=1, \n",
    "      batch_size=32, validation_split=0.10\n",
    "        )   \n",
    "    autoencoder.save(f\"models/AE-{epoch+1}.model\")"
   ]
  },
  {
   "cell_type": "markdown",
   "id": "d4960c9a-4d25-4d2d-96e6-747562629a9f",
   "metadata": {},
   "source": [
    "## Base Model Analysis: Encoded Vector of 64\n",
    "Looks like indeed everything at least runs. Before we inspect things, let's see the full code up to this point!"
   ]
  },
  {
   "cell_type": "code",
   "execution_count": 20,
   "id": "67394b4e-1f60-43e8-a0df-4b66439e0af3",
   "metadata": {},
   "outputs": [
    {
     "name": "stdout",
     "output_type": "stream",
     "text": [
      "Model: \"autoencoder\"\n",
      "_________________________________________________________________\n",
      " Layer (type)                Output Shape              Param #   \n",
      "=================================================================\n",
      " img (InputLayer)            [(None, 28, 28, 1)]       0         \n",
      "                                                                 \n",
      " flatten_1 (Flatten)         (None, 784)               0         \n",
      "                                                                 \n",
      " dense_3 (Dense)             (None, 64)                50240     \n",
      "                                                                 \n",
      " dense_4 (Dense)             (None, 64)                4160      \n",
      "                                                                 \n",
      " dense_5 (Dense)             (None, 784)               50960     \n",
      "                                                                 \n",
      " reshape_1 (Reshape)         (None, 28, 28, 1)         0         \n",
      "                                                                 \n",
      "=================================================================\n",
      "Total params: 105360 (411.56 KB)\n",
      "Trainable params: 105360 (411.56 KB)\n",
      "Non-trainable params: 0 (0.00 Byte)\n",
      "_________________________________________________________________\n",
      "1688/1688 [==============================] - 2s 974us/step - loss: 0.0211 - val_loss: 0.0149\n",
      "INFO:tensorflow:Assets written to: models/AE-1.model/assets\n"
     ]
    },
    {
     "name": "stderr",
     "output_type": "stream",
     "text": [
      "INFO:tensorflow:Assets written to: models/AE-1.model/assets\n"
     ]
    },
    {
     "name": "stdout",
     "output_type": "stream",
     "text": [
      "1688/1688 [==============================] - 2s 948us/step - loss: 0.0142 - val_loss: 0.0135\n",
      "INFO:tensorflow:Assets written to: models/AE-2.model/assets\n"
     ]
    },
    {
     "name": "stderr",
     "output_type": "stream",
     "text": [
      "INFO:tensorflow:Assets written to: models/AE-2.model/assets\n"
     ]
    },
    {
     "name": "stdout",
     "output_type": "stream",
     "text": [
      "1688/1688 [==============================] - 2s 946us/step - loss: 0.0133 - val_loss: 0.0130\n",
      "INFO:tensorflow:Assets written to: models/AE-3.model/assets\n"
     ]
    },
    {
     "name": "stderr",
     "output_type": "stream",
     "text": [
      "INFO:tensorflow:Assets written to: models/AE-3.model/assets\n"
     ]
    }
   ],
   "source": [
    "import tensorflow as tf  \n",
    "from tensorflow import keras\n",
    "import cv2\n",
    "import numpy as np\n",
    "\n",
    "\n",
    "(x_train, y_train),(x_test, y_test) = tf.keras.datasets.mnist.load_data()  # loads the popular \"mnist\" training dataset\n",
    "\n",
    "x_train = x_train/255.0  # scales the data. pixel values range from 0 to 255, so this makes it range 0 to 1\n",
    "x_test = x_test/255.0  # scales the data. pixel values range from 0 to 255, so this makes it range 0 to 1\n",
    "\n",
    "\n",
    "encoder_input = keras.Input(shape=(28, 28, 1), name='img')\n",
    "x = keras.layers.Flatten()(encoder_input)\n",
    "encoder_output = keras.layers.Dense(64, activation=\"relu\")(x)\n",
    "\n",
    "encoder = keras.Model(encoder_input, encoder_output, name='encoder')\n",
    "\n",
    "decoder_input = keras.layers.Dense(64, activation=\"relu\")(encoder_output)\n",
    "x = keras.layers.Dense(784, activation=\"relu\")(decoder_input)\n",
    "decoder_output = keras.layers.Reshape((28, 28, 1))(x)\n",
    "\n",
    "opt = tf.keras.optimizers.Adam(learning_rate=0.001, weight_decay=1e-6)\n",
    "\n",
    "autoencoder = keras.Model(encoder_input, decoder_output, name='autoencoder')\n",
    "autoencoder.summary()\n",
    "\n",
    "autoencoder.compile(opt, loss='mse')\n",
    "\n",
    "epochs=3\n",
    "\n",
    "for epoch in range(epochs):\n",
    "\n",
    "    history = autoencoder.fit(\n",
    "      x_train,\n",
    "      x_train,\n",
    "      epochs=1, \n",
    "      batch_size=32, validation_split=0.10\n",
    "        )   \n",
    "    autoencoder.save(f\"models/AE-{epoch+1}.model\")"
   ]
  },
  {
   "cell_type": "markdown",
   "id": "1ddf9d90-e0a5-4ff4-912c-616f36290edd",
   "metadata": {},
   "source": [
    "First, let's look at an encoded example, because it's cool:"
   ]
  },
  {
   "cell_type": "code",
   "execution_count": 21,
   "id": "6894f67e-0d74-4e32-8c28-2f49f944126e",
   "metadata": {},
   "outputs": [
    {
     "name": "stdout",
     "output_type": "stream",
     "text": [
      "1/1 [==============================] - 0s 30ms/step\n",
      "(64,)\n",
      "[0.72237897 1.0948427  0.35136658 2.8410792  0.         0.76346624\n",
      " 0.8616381  1.27796    0.         1.7522587  1.9503517  0.\n",
      " 0.79834473 0.37280732 1.6466222  2.2892406  0.         0.\n",
      " 2.109713   0.         2.028581   0.         2.5360851  0.456301\n",
      " 1.244502   2.3648822  1.9619437  1.417202   0.         0.\n",
      " 1.9793673  1.5909249  1.4514728  1.1120297  1.0063684  1.8363674\n",
      " 0.45796973 0.9572411  0.44553566 0.44627106 0.20619859 1.5035799\n",
      " 0.7612391  1.1314489  1.2992896  2.860348   0.         1.0393187\n",
      " 1.5354183  2.0310397  0.88720244 0.41984186 0.7683874  0.831504\n",
      " 2.2013338  1.8436778  1.7696031  2.2495286  0.89590794 0.\n",
      " 0.45361748 2.156787   1.0529529  0.95354545]\n"
     ]
    }
   ],
   "source": [
    "example = encoder.predict([ x_test[0].reshape(-1, 28, 28, 1) ])\n",
    "\n",
    "print(example[0].shape)\n",
    "print(example[0])"
   ]
  },
  {
   "cell_type": "markdown",
   "id": "9f435cb1-8e28-458b-b8eb-992400073b12",
   "metadata": {},
   "source": [
    "Just for fun, let's visualize an 8x8 of this vector of 64 values:"
   ]
  },
  {
   "cell_type": "code",
   "execution_count": 22,
   "id": "683a57ca-3331-4928-a5fd-1c93c09de9a4",
   "metadata": {},
   "outputs": [
    {
     "data": {
      "text/plain": [
       "<matplotlib.image.AxesImage at 0x14d502490>"
      ]
     },
     "execution_count": 22,
     "metadata": {},
     "output_type": "execute_result"
    },
    {
     "data": {
      "image/png": "[encoded data removed]",
      "text/plain": [
       "<Figure size 640x480 with 1 Axes>"
      ]
     },
     "metadata": {},
     "output_type": "display_data"
    }
   ],
   "source": [
    "plt.imshow(example[0].reshape((8,8)), cmap=\"gray\")"
   ]
  },
  {
   "cell_type": "markdown",
   "id": "304a42b2-49a1-4224-83c2-e38c8a94e8fe",
   "metadata": {},
   "source": [
    "Okay, that doesn't look very meaningful to us, but... did it work? Let's see what x_test[0] was:"
   ]
  },
  {
   "cell_type": "code",
   "execution_count": 23,
   "id": "4267e9ee-27aa-4ae0-8d21-2a5f4f6379da",
   "metadata": {},
   "outputs": [
    {
     "data": {
      "text/plain": [
       "<matplotlib.image.AxesImage at 0x149f93ed0>"
      ]
     },
     "execution_count": 23,
     "metadata": {},
     "output_type": "execute_result"
    },
    {
     "data": {
      "image/png": "[encoded data removed]",
      "text/plain": [
       "<Figure size 640x480 with 1 Axes>"
      ]
     },
     "metadata": {},
     "output_type": "display_data"
    }
   ],
   "source": [
    "plt.imshow(x_test[0], cmap=\"gray\")"
   ]
  },
  {
   "cell_type": "markdown",
   "id": "91570824-c2e4-42c6-b059-9425705df2d2",
   "metadata": {},
   "source": [
    "Okay, let's see how it looks after going through the autoencoder and at least, after encoding, that 7 was encoded to be:"
   ]
  },
  {
   "cell_type": "code",
   "execution_count": 24,
   "id": "10bc1387-7eb0-40fb-97f7-a7131cdeefe5",
   "metadata": {},
   "outputs": [
    {
     "name": "stdout",
     "output_type": "stream",
     "text": [
      "1/1 [==============================] - 0s 25ms/step\n"
     ]
    },
    {
     "data": {
      "text/plain": [
       "<matplotlib.image.AxesImage at 0x1499b3ed0>"
      ]
     },
     "execution_count": 24,
     "metadata": {},
     "output_type": "execute_result"
    },
    {
     "data": {
      "image/png": "[encoded data removed]",
      "text/plain": [
       "<Figure size 640x480 with 1 Axes>"
      ]
     },
     "metadata": {},
     "output_type": "display_data"
    }
   ],
   "source": [
    "ae_out = autoencoder.predict([ x_test[0].reshape(-1, 28, 28, 1) ])\n",
    "img = ae_out[0]  # predict is done on a vector, and returns a vector, even if its just 1 element, so we still need to grab the 0th\n",
    "plt.imshow(ae_out[0], cmap=\"gray\")"
   ]
  },
  {
   "cell_type": "markdown",
   "id": "90a3f6e0-8655-4ac4-a28d-2ade18982511",
   "metadata": {},
   "source": [
    "While we can clearly see some dead zone here, and it also looks like values are a little decreased, it's still very clearly a 7, it's in the same placement as the original and very much in the same general shape. Again, we were able to decode the above 7 from:"
   ]
  },
  {
   "cell_type": "code",
   "execution_count": 25,
   "id": "218405ef-2892-4505-b347-f2c2e073a6c8",
   "metadata": {},
   "outputs": [
    {
     "data": {
      "text/plain": [
       "<matplotlib.image.AxesImage at 0x1498cb110>"
      ]
     },
     "execution_count": 25,
     "metadata": {},
     "output_type": "execute_result"
    },
    {
     "data": {
      "image/png": "[encoded data removed]",
      "text/plain": [
       "<Figure size 640x480 with 1 Axes>"
      ]
     },
     "metadata": {},
     "output_type": "display_data"
    }
   ],
   "source": [
    "plt.imshow(example[0].reshape((8,8)), cmap=\"gray\")"
   ]
  },
  {
   "cell_type": "markdown",
   "id": "81babfc2-3af0-4c76-b1e1-9849c713ab49",
   "metadata": {},
   "source": [
    "That's COOL!\n",
    "\n",
    "Using OpenCV, we can quickly cycle through a bunch of examples by doing:"
   ]
  },
  {
   "cell_type": "code",
   "execution_count": 26,
   "id": "abf90a9a-59bc-4d5a-a509-2782704bf92b",
   "metadata": {},
   "outputs": [],
   "source": [
    "# for d in x_test[:2]:  # just show 2 examples, feel free to show all or however many you want!\n",
    "\n",
    "#     ae_out = autoencoder.predict([ d.reshape(-1, 28, 28, 1) ])\n",
    "#     img = ae_out[0]\n",
    "\n",
    "#     cv2.imshow(\"decoded\",img)\n",
    "#     cv2.imshow(\"original\",np.array(d))\n",
    "#     cv2.waitKey(1000)  # wait 1000ms, 1 second, and then show the next."
   ]
  },
  {
   "cell_type": "markdown",
   "id": "6a14b80f-1510-4fb7-a2c5-1492ce4228e6",
   "metadata": {},
   "source": [
    "At this point, you may be wondering why we don't just resize our 28x28 images to 8x8 and get the same impact? That may actually work, but remember: autoencoders are not Just for images, nor are they intended really for actually compressing data. The idea is to simplify the data. If you resize an image down to 8x8 then back up to 28x28, it's definitely going to look far worse than what we've got here:"
   ]
  },
  {
   "cell_type": "code",
   "execution_count": 27,
   "id": "7c22968f-989c-4160-b4ba-aed90ec6b852",
   "metadata": {},
   "outputs": [
    {
     "data": {
      "text/plain": [
       "<matplotlib.image.AxesImage at 0x14990f2d0>"
      ]
     },
     "execution_count": 27,
     "metadata": {},
     "output_type": "execute_result"
    },
    {
     "data": {
      "image/png": "[encoded data removed]",
      "text/plain": [
       "<Figure size 640x480 with 1 Axes>"
      ]
     },
     "metadata": {},
     "output_type": "display_data"
    }
   ],
   "source": [
    "smaller = cv2.resize(x_test[0], (8,8))\n",
    "back_to_original = cv2.resize(smaller, (28,28))\n",
    "plt.imshow(smaller, cmap=\"gray\")"
   ]
  },
  {
   "cell_type": "code",
   "execution_count": 28,
   "id": "a9759c98-8e2a-44da-abf2-b6e410a982b5",
   "metadata": {},
   "outputs": [
    {
     "data": {
      "text/plain": [
       "<matplotlib.image.AxesImage at 0x149193110>"
      ]
     },
     "execution_count": 28,
     "metadata": {},
     "output_type": "execute_result"
    },
    {
     "data": {
      "image/png": "[encoded data removed]",
      "text/plain": [
       "<Figure size 640x480 with 1 Axes>"
      ]
     },
     "metadata": {},
     "output_type": "display_data"
    }
   ],
   "source": [
    "plt.imshow(back_to_original, cmap=\"gray\")"
   ]
  },
  {
   "cell_type": "markdown",
   "id": "3e0414b7-5149-4e1d-ac30-ac311480522b",
   "metadata": {},
   "source": [
    "It's certainly still a 7, but, to me, it's clear the autoencoder's 7 is far more like the original.\n",
    "\n",
    "## Base Model Analysis: Encoded Vector of 25\n",
    "\n",
    "Continuing along, are there some changes we could make? Could we compress more?!\n",
    "\n",
    "Let's make the bottleneck 25 neurons, which would effectively be a 5x5 if we reshaped it."
   ]
  },
  {
   "cell_type": "code",
   "execution_count": 29,
   "id": "a8fc6451-40e8-40dc-818f-45281f17b3c6",
   "metadata": {},
   "outputs": [
    {
     "name": "stdout",
     "output_type": "stream",
     "text": [
      "Model: \"autoencoder\"\n",
      "_________________________________________________________________\n",
      " Layer (type)                Output Shape              Param #   \n",
      "=================================================================\n",
      " img (InputLayer)            [(None, 28, 28, 1)]       0         \n",
      "                                                                 \n",
      " flatten_2 (Flatten)         (None, 784)               0         \n",
      "                                                                 \n",
      " dense_6 (Dense)             (None, 25)                19625     \n",
      "                                                                 \n",
      " dense_7 (Dense)             (None, 25)                650       \n",
      "                                                                 \n",
      " dense_8 (Dense)             (None, 784)               20384     \n",
      "                                                                 \n",
      " reshape_2 (Reshape)         (None, 28, 28, 1)         0         \n",
      "                                                                 \n",
      "=================================================================\n",
      "Total params: 40659 (158.82 KB)\n",
      "Trainable params: 40659 (158.82 KB)\n",
      "Non-trainable params: 0 (0.00 Byte)\n",
      "_________________________________________________________________\n",
      "1688/1688 [==============================] - 1s 662us/step - loss: 0.0328 - val_loss: 0.0254\n",
      "INFO:tensorflow:Assets written to: models/AE-1.model/assets\n"
     ]
    },
    {
     "name": "stderr",
     "output_type": "stream",
     "text": [
      "INFO:tensorflow:Assets written to: models/AE-1.model/assets\n"
     ]
    },
    {
     "name": "stdout",
     "output_type": "stream",
     "text": [
      "1688/1688 [==============================] - 1s 659us/step - loss: 0.0246 - val_loss: 0.0242\n",
      "INFO:tensorflow:Assets written to: models/AE-2.model/assets\n"
     ]
    },
    {
     "name": "stderr",
     "output_type": "stream",
     "text": [
      "INFO:tensorflow:Assets written to: models/AE-2.model/assets\n"
     ]
    },
    {
     "name": "stdout",
     "output_type": "stream",
     "text": [
      "1688/1688 [==============================] - 1s 649us/step - loss: 0.0239 - val_loss: 0.0233\n",
      "INFO:tensorflow:Assets written to: models/AE-3.model/assets\n"
     ]
    },
    {
     "name": "stderr",
     "output_type": "stream",
     "text": [
      "INFO:tensorflow:Assets written to: models/AE-3.model/assets\n"
     ]
    }
   ],
   "source": [
    "import tensorflow as tf  \n",
    "from tensorflow import keras\n",
    "import cv2\n",
    "import numpy as np\n",
    "\n",
    "\n",
    "(x_train, y_train),(x_test, y_test) = tf.keras.datasets.mnist.load_data()  # loads the popular \"mnist\" training dataset\n",
    "\n",
    "x_train = x_train/255.0  # scales the data. pixel values range from 0 to 255, so this makes it range 0 to 1\n",
    "x_test = x_test/255.0  # scales the data. pixel values range from 0 to 255, so this makes it range 0 to 1\n",
    "\n",
    "\n",
    "encoder_input = keras.Input(shape=(28, 28, 1), name='img')\n",
    "x = keras.layers.Flatten()(encoder_input)\n",
    "encoder_output = keras.layers.Dense(25, activation=\"relu\")(x)\n",
    "\n",
    "encoder = keras.Model(encoder_input, encoder_output, name='encoder')\n",
    "\n",
    "decoder_input = keras.layers.Dense(25, activation=\"relu\")(encoder_output)\n",
    "x = keras.layers.Dense(784, activation=\"relu\")(decoder_input)\n",
    "decoder_output = keras.layers.Reshape((28, 28, 1))(x)\n",
    "\n",
    "opt = tf.keras.optimizers.Adam(learning_rate=0.001, weight_decay=1e-6)\n",
    "\n",
    "autoencoder = keras.Model(encoder_input, decoder_output, name='autoencoder')\n",
    "autoencoder.summary()\n",
    "\n",
    "autoencoder.compile(opt, loss='mse')\n",
    "\n",
    "epochs=3\n",
    "\n",
    "for epoch in range(epochs):\n",
    "\n",
    "    history = autoencoder.fit(\n",
    "      x_train,\n",
    "      x_train,\n",
    "      epochs=1, \n",
    "      batch_size=32, validation_split=0.10\n",
    "        )   \n",
    "    autoencoder.save(f\"models/AE-{epoch+1}.model\")"
   ]
  },
  {
   "cell_type": "code",
   "execution_count": 30,
   "id": "d89d968e-58c4-449e-ae98-915979f65e44",
   "metadata": {},
   "outputs": [
    {
     "name": "stdout",
     "output_type": "stream",
     "text": [
      "1/1 [==============================] - 0s 31ms/step\n",
      "(25,)\n",
      "[0.8942441 1.6355579 4.90595   1.9123423 0.        2.5601308 4.061474\n",
      " 0.9722612 2.3310528 2.214645  3.0003684 0.        2.2281692 1.4898884\n",
      " 1.4419997 2.6054296 1.1842885 1.0159075 2.8929412 4.289458  2.854616\n",
      " 1.7997881 2.0924656 4.165448  0.6389349]\n"
     ]
    },
    {
     "data": {
      "text/plain": [
       "<matplotlib.image.AxesImage at 0x149afb790>"
      ]
     },
     "execution_count": 30,
     "metadata": {},
     "output_type": "execute_result"
    },
    {
     "data": {
      "image/png": "[encoded data removed]",
      "text/plain": [
       "<Figure size 640x480 with 1 Axes>"
      ]
     },
     "metadata": {},
     "output_type": "display_data"
    }
   ],
   "source": [
    "example = encoder.predict([ x_test[0].reshape(-1, 28, 28, 1) ])\n",
    "\n",
    "print(example[0].shape)\n",
    "print(example[0])\n",
    "plt.imshow(example[0].reshape((5,5)), cmap=\"gray\")"
   ]
  },
  {
   "cell_type": "markdown",
   "id": "61463717-7025-48dd-8fbf-101e30fddb5c",
   "metadata": {},
   "source": [
    "So this is a our 784-value number 7 compressed down from a 28x28 to 25 values in a 5x5 format. Let's see what the decompressed version looks like:"
   ]
  },
  {
   "cell_type": "code",
   "execution_count": 31,
   "id": "5fbfb47a-cd65-4569-bb02-84c62a9ef4c9",
   "metadata": {},
   "outputs": [
    {
     "name": "stdout",
     "output_type": "stream",
     "text": [
      "1/1 [==============================] - 0s 25ms/step\n"
     ]
    },
    {
     "data": {
      "text/plain": [
       "<matplotlib.image.AxesImage at 0x14fe6a150>"
      ]
     },
     "execution_count": 31,
     "metadata": {},
     "output_type": "execute_result"
    },
    {
     "data": {
      "image/png": "[encoded data removed]",
      "text/plain": [
       "<Figure size 640x480 with 1 Axes>"
      ]
     },
     "metadata": {},
     "output_type": "display_data"
    }
   ],
   "source": [
    "ae_out = autoencoder.predict([ x_test[0].reshape(-1, 28, 28, 1) ])\n",
    "img = ae_out[0]  # predict is done on a vector, and returns a vector, even if its just 1 element, so we still need to grab the 0th\n",
    "plt.imshow(ae_out[0], cmap=\"gray\")"
   ]
  },
  {
   "cell_type": "markdown",
   "id": "bd946ba7-2253-4568-98b8-34a307987400",
   "metadata": {},
   "source": [
    "Recall the original was:"
   ]
  },
  {
   "cell_type": "code",
   "execution_count": 32,
   "id": "1dfe8ccb-fdb3-462d-89ad-f4ed72e1d8fd",
   "metadata": {},
   "outputs": [
    {
     "data": {
      "text/plain": [
       "<matplotlib.image.AxesImage at 0x14fe03110>"
      ]
     },
     "execution_count": 32,
     "metadata": {},
     "output_type": "execute_result"
    },
    {
     "data": {
      "image/png": "[encoded data removed]",
      "text/plain": [
       "<Figure size 640x480 with 1 Axes>"
      ]
     },
     "metadata": {},
     "output_type": "display_data"
    }
   ],
   "source": [
    "plt.imshow(x_test[0], cmap=\"gray\")"
   ]
  },
  {
   "cell_type": "markdown",
   "id": "3e17dbad-3177-4a3e-98e3-c30de8270ce3",
   "metadata": {},
   "source": [
    "So this one is definitely not quite as good, but again, it's certainly better than the resized variant:"
   ]
  },
  {
   "cell_type": "code",
   "execution_count": 33,
   "id": "35d6c924-2cda-4de5-979d-1cbcee3b4167",
   "metadata": {},
   "outputs": [
    {
     "data": {
      "text/plain": [
       "<matplotlib.image.AxesImage at 0x159263110>"
      ]
     },
     "execution_count": 33,
     "metadata": {},
     "output_type": "execute_result"
    },
    {
     "data": {
      "image/png": "[encoded data removed]",
      "text/plain": [
       "<Figure size 640x480 with 1 Axes>"
      ]
     },
     "metadata": {},
     "output_type": "display_data"
    }
   ],
   "source": [
    "smaller = cv2.resize(x_test[0], (5,5))\n",
    "back_to_original = cv2.resize(smaller, (28,28))\n",
    "plt.imshow(smaller, cmap=\"gray\")"
   ]
  },
  {
   "cell_type": "code",
   "execution_count": 34,
   "id": "74bb6574-4cb3-4414-bf5f-b0870384297e",
   "metadata": {},
   "outputs": [
    {
     "data": {
      "text/plain": [
       "<matplotlib.image.AxesImage at 0x15929f5d0>"
      ]
     },
     "execution_count": 34,
     "metadata": {},
     "output_type": "execute_result"
    },
    {
     "data": {
      "image/png": "[encoded data removed]",
      "text/plain": [
       "<Figure size 640x480 with 1 Axes>"
      ]
     },
     "metadata": {},
     "output_type": "display_data"
    }
   ],
   "source": [
    "plt.imshow(back_to_original, cmap=\"gray\")"
   ]
  },
  {
   "cell_type": "markdown",
   "id": "486f7a98-f0cc-4cf8-b695-e5f06eabb35a",
   "metadata": {},
   "source": [
    "## Base Model Analysis: Encoded Vector of 9\n",
    "\n",
    "Can we... go even lower? What about a vector of only 9 values?"
   ]
  },
  {
   "cell_type": "code",
   "execution_count": 35,
   "id": "f65d7464-e111-4b83-b4aa-6ee87e78e388",
   "metadata": {},
   "outputs": [
    {
     "name": "stdout",
     "output_type": "stream",
     "text": [
      "Model: \"autoencoder\"\n",
      "_________________________________________________________________\n",
      " Layer (type)                Output Shape              Param #   \n",
      "=================================================================\n",
      " img (InputLayer)            [(None, 28, 28, 1)]       0         \n",
      "                                                                 \n",
      " flatten_3 (Flatten)         (None, 784)               0         \n",
      "                                                                 \n",
      " dense_9 (Dense)             (None, 9)                 7065      \n",
      "                                                                 \n",
      " dense_10 (Dense)            (None, 9)                 90        \n",
      "                                                                 \n",
      " dense_11 (Dense)            (None, 784)               7840      \n",
      "                                                                 \n",
      " reshape_3 (Reshape)         (None, 28, 28, 1)         0         \n",
      "                                                                 \n",
      "=================================================================\n",
      "Total params: 14995 (58.57 KB)\n",
      "Trainable params: 14995 (58.57 KB)\n",
      "Non-trainable params: 0 (0.00 Byte)\n",
      "_________________________________________________________________\n",
      "1688/1688 [==============================] - 1s 520us/step - loss: 0.0483 - val_loss: 0.0417\n",
      "INFO:tensorflow:Assets written to: models/AE-1.model/assets\n"
     ]
    },
    {
     "name": "stderr",
     "output_type": "stream",
     "text": [
      "INFO:tensorflow:Assets written to: models/AE-1.model/assets\n"
     ]
    },
    {
     "name": "stdout",
     "output_type": "stream",
     "text": [
      "1688/1688 [==============================] - 1s 489us/step - loss: 0.0400 - val_loss: 0.0390\n",
      "INFO:tensorflow:Assets written to: models/AE-2.model/assets\n"
     ]
    },
    {
     "name": "stderr",
     "output_type": "stream",
     "text": [
      "INFO:tensorflow:Assets written to: models/AE-2.model/assets\n"
     ]
    },
    {
     "name": "stdout",
     "output_type": "stream",
     "text": [
      "1688/1688 [==============================] - 1s 515us/step - loss: 0.0392 - val_loss: 0.0391\n",
      "INFO:tensorflow:Assets written to: models/AE-3.model/assets\n"
     ]
    },
    {
     "name": "stderr",
     "output_type": "stream",
     "text": [
      "INFO:tensorflow:Assets written to: models/AE-3.model/assets\n"
     ]
    }
   ],
   "source": [
    "import tensorflow as tf  \n",
    "from tensorflow import keras\n",
    "import cv2\n",
    "import numpy as np\n",
    "\n",
    "\n",
    "(x_train, y_train),(x_test, y_test) = tf.keras.datasets.mnist.load_data()  # loads the popular \"mnist\" training dataset\n",
    "\n",
    "x_train = x_train/255.0  # scales the data. pixel values range from 0 to 255, so this makes it range 0 to 1\n",
    "x_test = x_test/255.0  # scales the data. pixel values range from 0 to 255, so this makes it range 0 to 1\n",
    "\n",
    "\n",
    "encoder_input = keras.Input(shape=(28, 28, 1), name='img')\n",
    "x = keras.layers.Flatten()(encoder_input)\n",
    "encoder_output = keras.layers.Dense(9, activation=\"relu\")(x)\n",
    "\n",
    "encoder = keras.Model(encoder_input, encoder_output, name='encoder')\n",
    "\n",
    "decoder_input = keras.layers.Dense(9, activation=\"relu\")(encoder_output)\n",
    "x = keras.layers.Dense(784, activation=\"relu\")(decoder_input)\n",
    "decoder_output = keras.layers.Reshape((28, 28, 1))(x)\n",
    "\n",
    "opt = tf.keras.optimizers.Adam(learning_rate=0.001, weight_decay=1e-6)\n",
    "\n",
    "autoencoder = keras.Model(encoder_input, decoder_output, name='autoencoder')\n",
    "autoencoder.summary()\n",
    "\n",
    "autoencoder.compile(opt, loss='mse')\n",
    "\n",
    "epochs=3\n",
    "\n",
    "for epoch in range(epochs):\n",
    "\n",
    "    history = autoencoder.fit(\n",
    "      x_train,\n",
    "      x_train,\n",
    "      epochs=1, \n",
    "      batch_size=32, validation_split=0.10\n",
    "        )   \n",
    "    autoencoder.save(f\"models/AE-{epoch+1}.model\")"
   ]
  },
  {
   "cell_type": "code",
   "execution_count": 36,
   "id": "b82e1e7b-f9ff-4d74-ba32-9f845d3af122",
   "metadata": {},
   "outputs": [
    {
     "name": "stdout",
     "output_type": "stream",
     "text": [
      "WARNING:tensorflow:5 out of the last 5 calls to <function Model.make_predict_function.<locals>.predict_function at 0x1491085e0> triggered tf.function retracing. Tracing is expensive and the excessive number of tracings could be due to (1) creating @tf.function repeatedly in a loop, (2) passing tensors with different shapes, (3) passing Python objects instead of tensors. For (1), please define your @tf.function outside of the loop. For (2), @tf.function has reduce_retracing=True option that can avoid unnecessary retracing. For (3), please refer to https://www.tensorflow.org/guide/function#controlling_retracing and https://www.tensorflow.org/api_docs/python/tf/function for  more details.\n"
     ]
    },
    {
     "name": "stderr",
     "output_type": "stream",
     "text": [
      "WARNING:tensorflow:5 out of the last 5 calls to <function Model.make_predict_function.<locals>.predict_function at 0x1491085e0> triggered tf.function retracing. Tracing is expensive and the excessive number of tracings could be due to (1) creating @tf.function repeatedly in a loop, (2) passing tensors with different shapes, (3) passing Python objects instead of tensors. For (1), please define your @tf.function outside of the loop. For (2), @tf.function has reduce_retracing=True option that can avoid unnecessary retracing. For (3), please refer to https://www.tensorflow.org/guide/function#controlling_retracing and https://www.tensorflow.org/api_docs/python/tf/function for  more details.\n"
     ]
    },
    {
     "name": "stdout",
     "output_type": "stream",
     "text": [
      "1/1 [==============================] - 0s 18ms/step\n",
      "(9,)\n",
      "[3.6108944 3.6753771 3.1528475 3.3975375 7.938446  5.513242  1.1056042\n",
      " 3.5083306 4.891431 ]\n"
     ]
    },
    {
     "data": {
      "text/plain": [
       "<matplotlib.image.AxesImage at 0x14ff43e90>"
      ]
     },
     "execution_count": 36,
     "metadata": {},
     "output_type": "execute_result"
    },
    {
     "data": {
      "image/png": "[encoded data removed]",
      "text/plain": [
       "<Figure size 640x480 with 1 Axes>"
      ]
     },
     "metadata": {},
     "output_type": "display_data"
    }
   ],
   "source": [
    "example = encoder.predict([ x_test[0].reshape(-1, 28, 28, 1) ])\n",
    "\n",
    "print(example[0].shape)\n",
    "print(example[0])\n",
    "plt.imshow(example[0].reshape((3,3)), cmap=\"gray\")"
   ]
  },
  {
   "cell_type": "code",
   "execution_count": 37,
   "id": "a2ca832e-06c1-4c4d-b2e6-b1094e118a17",
   "metadata": {},
   "outputs": [
    {
     "name": "stdout",
     "output_type": "stream",
     "text": [
      "WARNING:tensorflow:6 out of the last 6 calls to <function Model.make_predict_function.<locals>.predict_function at 0x159313560> triggered tf.function retracing. Tracing is expensive and the excessive number of tracings could be due to (1) creating @tf.function repeatedly in a loop, (2) passing tensors with different shapes, (3) passing Python objects instead of tensors. For (1), please define your @tf.function outside of the loop. For (2), @tf.function has reduce_retracing=True option that can avoid unnecessary retracing. For (3), please refer to https://www.tensorflow.org/guide/function#controlling_retracing and https://www.tensorflow.org/api_docs/python/tf/function for  more details.\n"
     ]
    },
    {
     "name": "stderr",
     "output_type": "stream",
     "text": [
      "WARNING:tensorflow:6 out of the last 6 calls to <function Model.make_predict_function.<locals>.predict_function at 0x159313560> triggered tf.function retracing. Tracing is expensive and the excessive number of tracings could be due to (1) creating @tf.function repeatedly in a loop, (2) passing tensors with different shapes, (3) passing Python objects instead of tensors. For (1), please define your @tf.function outside of the loop. For (2), @tf.function has reduce_retracing=True option that can avoid unnecessary retracing. For (3), please refer to https://www.tensorflow.org/guide/function#controlling_retracing and https://www.tensorflow.org/api_docs/python/tf/function for  more details.\n"
     ]
    },
    {
     "name": "stdout",
     "output_type": "stream",
     "text": [
      "1/1 [==============================] - 0s 25ms/step\n"
     ]
    },
    {
     "data": {
      "text/plain": [
       "<matplotlib.image.AxesImage at 0x149be3110>"
      ]
     },
     "execution_count": 37,
     "metadata": {},
     "output_type": "execute_result"
    },
    {
     "data": {
      "image/png": "[encoded data removed]",
      "text/plain": [
       "<Figure size 640x480 with 1 Axes>"
      ]
     },
     "metadata": {},
     "output_type": "display_data"
    }
   ],
   "source": [
    "ae_out = autoencoder.predict([ x_test[0].reshape(-1, 28, 28, 1) ])\n",
    "img = ae_out[0]  # predict is done on a vector, and returns a vector, even if its just 1 element, so we still need to grab the 0th\n",
    "plt.imshow(ae_out[0], cmap=\"gray\")"
   ]
  },
  {
   "cell_type": "markdown",
   "id": "3ab97e78-a98f-4f95-a984-6c65a3f27474",
   "metadata": {},
   "source": [
    "You've got to be kidding me. How about some others?"
   ]
  },
  {
   "cell_type": "code",
   "execution_count": 38,
   "id": "9d818d66-bf1d-4fa1-85db-4d3d26aa81d8",
   "metadata": {},
   "outputs": [
    {
     "name": "stdout",
     "output_type": "stream",
     "text": [
      "1/1 [==============================] - 0s 8ms/step\n"
     ]
    },
    {
     "data": {
      "text/plain": [
       "<matplotlib.image.AxesImage at 0x14ff73110>"
      ]
     },
     "execution_count": 38,
     "metadata": {},
     "output_type": "execute_result"
    },
    {
     "data": {
      "image/png": "[encoded data removed]",
      "text/plain": [
       "<Figure size 640x480 with 1 Axes>"
      ]
     },
     "metadata": {},
     "output_type": "display_data"
    }
   ],
   "source": [
    "ae_out = autoencoder.predict([ x_test[1].reshape(-1, 28, 28, 1) ])\n",
    "img = ae_out[0]  # predict is done on a vector, and returns a vector, even if its just 1 element, so we still need to grab the 0th\n",
    "plt.imshow(ae_out[0], cmap=\"gray\")"
   ]
  },
  {
   "cell_type": "markdown",
   "id": "3922823d-06a4-4410-aea9-e5d215b52583",
   "metadata": {},
   "source": [
    "This was probably a 3, definitely hard to tell for sure, so we can check the original:"
   ]
  },
  {
   "cell_type": "code",
   "execution_count": 39,
   "id": "ebcef93d-25c1-421b-a681-0ce395c34694",
   "metadata": {},
   "outputs": [
    {
     "data": {
      "text/plain": [
       "<matplotlib.image.AxesImage at 0x14ffc3110>"
      ]
     },
     "execution_count": 39,
     "metadata": {},
     "output_type": "execute_result"
    },
    {
     "data": {
      "image/png": "[encoded data removed]",
      "text/plain": [
       "<Figure size 640x480 with 1 Axes>"
      ]
     },
     "metadata": {},
     "output_type": "display_data"
    }
   ],
   "source": [
    "plt.imshow(x_test[1], cmap=\"gray\")"
   ]
  },
  {
   "cell_type": "markdown",
   "id": "97237571-96de-4e78-b0df-5c43aa5d6712",
   "metadata": {},
   "source": [
    "Okay so that one didn't go so well. Let's check a few others:"
   ]
  },
  {
   "cell_type": "code",
   "execution_count": 40,
   "id": "dc2936e7-face-4d43-bcdb-e62992fdcb4a",
   "metadata": {},
   "outputs": [
    {
     "name": "stdout",
     "output_type": "stream",
     "text": [
      "1/1 [==============================] - 0s 9ms/step\n"
     ]
    },
    {
     "data": {
      "text/plain": [
       "<matplotlib.image.AxesImage at 0x14ff51850>"
      ]
     },
     "execution_count": 40,
     "metadata": {},
     "output_type": "execute_result"
    },
    {
     "data": {
      "image/png": "[encoded data removed]",
      "text/plain": [
       "<Figure size 640x480 with 1 Axes>"
      ]
     },
     "metadata": {},
     "output_type": "display_data"
    }
   ],
   "source": [
    "ae_out = autoencoder.predict([ x_test[2].reshape(-1, 28, 28, 1) ])\n",
    "img = ae_out[0]  # predict is done on a vector, and returns a vector, even if its just 1 element, so we still need to grab the 0th\n",
    "plt.imshow(ae_out[0], cmap=\"gray\")"
   ]
  },
  {
   "cell_type": "code",
   "execution_count": 41,
   "id": "0b98f774-dc65-499d-b9e1-557201d9049d",
   "metadata": {},
   "outputs": [
    {
     "data": {
      "text/plain": [
       "<matplotlib.image.AxesImage at 0x1595b5690>"
      ]
     },
     "execution_count": 41,
     "metadata": {},
     "output_type": "execute_result"
    },
    {
     "data": {
      "image/png": "[encoded data removed]",
      "text/plain": [
       "<Figure size 640x480 with 1 Axes>"
      ]
     },
     "metadata": {},
     "output_type": "display_data"
    }
   ],
   "source": [
    "plt.imshow(x_test[2], cmap=\"gray\")"
   ]
  },
  {
   "cell_type": "code",
   "execution_count": 42,
   "id": "a7af45d1-c33a-49d6-bc36-50b1dac33d1b",
   "metadata": {},
   "outputs": [
    {
     "name": "stdout",
     "output_type": "stream",
     "text": [
      "1/1 [==============================] - 0s 8ms/step\n"
     ]
    },
    {
     "data": {
      "text/plain": [
       "<matplotlib.image.AxesImage at 0x1595a0750>"
      ]
     },
     "execution_count": 42,
     "metadata": {},
     "output_type": "execute_result"
    },
    {
     "data": {
      "image/png": "[encoded data removed]",
      "text/plain": [
       "<Figure size 640x480 with 1 Axes>"
      ]
     },
     "metadata": {},
     "output_type": "display_data"
    }
   ],
   "source": [
    "ae_out = autoencoder.predict([ x_test[3].reshape(-1, 28, 28, 1) ])\n",
    "img = ae_out[0]  # predict is done on a vector, and returns a vector, even if its just 1 element, so we still need to grab the 0th\n",
    "plt.imshow(ae_out[0], cmap=\"gray\")"
   ]
  },
  {
   "cell_type": "code",
   "execution_count": 43,
   "id": "55564a18-6fff-43fd-b988-45721fad0d69",
   "metadata": {},
   "outputs": [
    {
     "data": {
      "text/plain": [
       "<matplotlib.image.AxesImage at 0x15962f5d0>"
      ]
     },
     "execution_count": 43,
     "metadata": {},
     "output_type": "execute_result"
    },
    {
     "data": {
      "image/png": "[encoded data removed]",
      "text/plain": [
       "<Figure size 640x480 with 1 Axes>"
      ]
     },
     "metadata": {},
     "output_type": "display_data"
    }
   ],
   "source": [
    "plt.imshow(x_test[3], cmap=\"gray\")"
   ]
  },
  {
   "cell_type": "code",
   "execution_count": 44,
   "id": "1ececdf8-4d56-4c81-b4c5-0bd27461d399",
   "metadata": {},
   "outputs": [
    {
     "name": "stdout",
     "output_type": "stream",
     "text": [
      "1/1 [==============================] - 0s 8ms/step\n"
     ]
    },
    {
     "data": {
      "text/plain": [
       "<matplotlib.image.AxesImage at 0x1596c3110>"
      ]
     },
     "execution_count": 44,
     "metadata": {},
     "output_type": "execute_result"
    },
    {
     "data": {
      "image/png": "[encoded data removed]",
      "text/plain": [
       "<Figure size 640x480 with 1 Axes>"
      ]
     },
     "metadata": {},
     "output_type": "display_data"
    }
   ],
   "source": [
    "ae_out = autoencoder.predict([ x_test[4].reshape(-1, 28, 28, 1) ])\n",
    "img = ae_out[0]  # predict is done on a vector, and returns a vector, even if its just 1 element, so we still need to grab the 0th\n",
    "plt.imshow(ae_out[0], cmap=\"gray\")"
   ]
  },
  {
   "cell_type": "code",
   "execution_count": 45,
   "id": "f77af1db-78e6-4a0a-9b65-3921b9bad3cd",
   "metadata": {},
   "outputs": [
    {
     "data": {
      "text/plain": [
       "<matplotlib.image.AxesImage at 0x159713110>"
      ]
     },
     "execution_count": 45,
     "metadata": {},
     "output_type": "execute_result"
    },
    {
     "data": {
      "image/png": "[encoded data removed]",
      "text/plain": [
       "<Figure size 640x480 with 1 Axes>"
      ]
     },
     "metadata": {},
     "output_type": "display_data"
    }
   ],
   "source": [
    "plt.imshow(x_test[4], cmap=\"gray\")"
   ]
  },
  {
   "cell_type": "code",
   "execution_count": 46,
   "id": "d9059d06-5c13-4547-88be-c6d3c10bcf7d",
   "metadata": {},
   "outputs": [
    {
     "name": "stdout",
     "output_type": "stream",
     "text": [
      "1/1 [==============================] - 0s 9ms/step\n"
     ]
    },
    {
     "data": {
      "text/plain": [
       "<matplotlib.image.AxesImage at 0x1597a0fd0>"
      ]
     },
     "execution_count": 46,
     "metadata": {},
     "output_type": "execute_result"
    },
    {
     "data": {
      "image/png": "[encoded data removed]",
      "text/plain": [
       "<Figure size 640x480 with 1 Axes>"
      ]
     },
     "metadata": {},
     "output_type": "display_data"
    }
   ],
   "source": [
    "ae_out = autoencoder.predict([ x_test[5].reshape(-1, 28, 28, 1) ])\n",
    "img = ae_out[0]  # predict is done on a vector, and returns a vector, even if its just 1 element, so we still need to grab the 0th\n",
    "plt.imshow(ae_out[0], cmap=\"gray\")"
   ]
  },
  {
   "cell_type": "code",
   "execution_count": 47,
   "id": "fcf96c79-d5ce-4a52-b72b-adc89bd45845",
   "metadata": {},
   "outputs": [
    {
     "data": {
      "text/plain": [
       "<matplotlib.image.AxesImage at 0x159830050>"
      ]
     },
     "execution_count": 47,
     "metadata": {},
     "output_type": "execute_result"
    },
    {
     "data": {
      "image/png": "[encoded data removed]",
      "text/plain": [
       "<Figure size 640x480 with 1 Axes>"
      ]
     },
     "metadata": {},
     "output_type": "display_data"
    }
   ],
   "source": [
    "plt.imshow(x_test[5], cmap=\"gray\")"
   ]
  },
  {
   "cell_type": "markdown",
   "id": "c2513eb7-fa39-40cb-94ec-75fa432b744b",
   "metadata": {},
   "source": [
    "As shown earlier, you can just iterate through a bunch of examples by doing something like:"
   ]
  },
  {
   "cell_type": "code",
   "execution_count": 48,
   "id": "7bf11c15-ccce-43b0-adf7-a10bfdb7d843",
   "metadata": {},
   "outputs": [],
   "source": [
    "# for d in x_test[:30]:  # just show 5 examples, feel free to show all or however many you want!\n",
    "\n",
    "#     ae_out = autoencoder.predict([ d.reshape(-1, 28, 28, 1) ])\n",
    "#     img = ae_out[0]\n",
    "\n",
    "#     cv2.imshow(\"decoded\",img)\n",
    "#     cv2.imshow(\"original\",np.array(d))\n",
    "#     cv2.waitKey(1000)  # wait 1000ms, 1 second, and then show the next."
   ]
  },
  {
   "cell_type": "markdown",
   "id": "60a73bf6-6045-4469-92ee-04e7d71b12f9",
   "metadata": {},
   "source": [
    "## Base Model Analysis: Overall\n",
    "\n",
    "Surprisingly, this works for most of the numbers still, which is frankly incredible, and 9/784 is ~ 1%. Of course I wouldn't recommend going THIS small, but it is interesting to see how well the autoencoder can indeed condense information.\n",
    "\n",
    "# Analysing Model: Noise Reduction\n",
    "\n",
    "One argument that we've made so far for autoencoders is noise-reduction. Autoencoders are a form of unsupervised learning, in that they can determine what's noise and what isn't, just by seeing a bunch of examples of the data, without us needing to tell or teach it to ignore noise.\n",
    "\n",
    "Again, we'll use this MNIST data to exemplify this, but just like everything else, this works with any type of data.\n",
    "\n",
    "Let's start by going back to our compression to a vector of 64 values:"
   ]
  },
  {
   "cell_type": "code",
   "execution_count": 49,
   "id": "27cea0bb-871b-4f5e-bf40-a4433824c693",
   "metadata": {},
   "outputs": [
    {
     "name": "stdout",
     "output_type": "stream",
     "text": [
      "Model: \"autoencoder\"\n",
      "_________________________________________________________________\n",
      " Layer (type)                Output Shape              Param #   \n",
      "=================================================================\n",
      " img (InputLayer)            [(None, 28, 28, 1)]       0         \n",
      "                                                                 \n",
      " flatten_4 (Flatten)         (None, 784)               0         \n",
      "                                                                 \n",
      " dense_12 (Dense)            (None, 64)                50240     \n",
      "                                                                 \n",
      " dense_13 (Dense)            (None, 64)                4160      \n",
      "                                                                 \n",
      " dense_14 (Dense)            (None, 784)               50960     \n",
      "                                                                 \n",
      " reshape_4 (Reshape)         (None, 28, 28, 1)         0         \n",
      "                                                                 \n",
      "=================================================================\n",
      "Total params: 105360 (411.56 KB)\n",
      "Trainable params: 105360 (411.56 KB)\n",
      "Non-trainable params: 0 (0.00 Byte)\n",
      "_________________________________________________________________\n",
      "1688/1688 [==============================] - 2s 1ms/step - loss: 0.0218 - val_loss: 0.0149\n",
      "INFO:tensorflow:Assets written to: models/AE-1.model/assets\n"
     ]
    },
    {
     "name": "stderr",
     "output_type": "stream",
     "text": [
      "INFO:tensorflow:Assets written to: models/AE-1.model/assets\n"
     ]
    },
    {
     "name": "stdout",
     "output_type": "stream",
     "text": [
      "1688/1688 [==============================] - 2s 948us/step - loss: 0.0140 - val_loss: 0.0134\n",
      "INFO:tensorflow:Assets written to: models/AE-2.model/assets\n"
     ]
    },
    {
     "name": "stderr",
     "output_type": "stream",
     "text": [
      "INFO:tensorflow:Assets written to: models/AE-2.model/assets\n"
     ]
    },
    {
     "name": "stdout",
     "output_type": "stream",
     "text": [
      "1688/1688 [==============================] - 2s 924us/step - loss: 0.0130 - val_loss: 0.0128\n",
      "INFO:tensorflow:Assets written to: models/AE-3.model/assets\n"
     ]
    },
    {
     "name": "stderr",
     "output_type": "stream",
     "text": [
      "INFO:tensorflow:Assets written to: models/AE-3.model/assets\n"
     ]
    }
   ],
   "source": [
    "import tensorflow as tf  \n",
    "from tensorflow import keras\n",
    "import cv2\n",
    "import numpy as np\n",
    "\n",
    "\n",
    "(x_train, y_train),(x_test, y_test) = tf.keras.datasets.mnist.load_data()  # loads the popular \"mnist\" training dataset\n",
    "\n",
    "x_train = x_train/255.0  # scales the data. pixel values range from 0 to 255, so this makes it range 0 to 1\n",
    "x_test = x_test/255.0  # scales the data. pixel values range from 0 to 255, so this makes it range 0 to 1\n",
    "\n",
    "\n",
    "encoder_input = keras.Input(shape=(28, 28, 1), name='img')\n",
    "x = keras.layers.Flatten()(encoder_input)\n",
    "encoder_output = keras.layers.Dense(64, activation=\"relu\")(x)\n",
    "\n",
    "encoder = keras.Model(encoder_input, encoder_output, name='encoder')\n",
    "\n",
    "decoder_input = keras.layers.Dense(64, activation=\"relu\")(encoder_output)\n",
    "x = keras.layers.Dense(784, activation=\"relu\")(decoder_input)\n",
    "decoder_output = keras.layers.Reshape((28, 28, 1))(x)\n",
    "\n",
    "opt = tf.keras.optimizers.Adam(learning_rate=0.001, weight_decay=1e-6)\n",
    "\n",
    "autoencoder = keras.Model(encoder_input, decoder_output, name='autoencoder')\n",
    "autoencoder.summary()\n",
    "\n",
    "autoencoder.compile(opt, loss='mse')\n",
    "\n",
    "epochs=3\n",
    "\n",
    "for epoch in range(epochs):\n",
    "\n",
    "    history = autoencoder.fit(\n",
    "      x_train,\n",
    "      x_train,\n",
    "      epochs=1, \n",
    "      batch_size=32, validation_split=0.10\n",
    "        )   \n",
    "    autoencoder.save(f\"models/AE-{epoch+1}.model\")"
   ]
  },
  {
   "cell_type": "code",
   "execution_count": 50,
   "id": "91f368ba-cbb5-4a97-8d8a-4c688a09b851",
   "metadata": {},
   "outputs": [
    {
     "data": {
      "text/plain": [
       "<matplotlib.image.AxesImage at 0x1593da1d0>"
      ]
     },
     "execution_count": 50,
     "metadata": {},
     "output_type": "execute_result"
    },
    {
     "data": {
      "image/png": "[encoded data removed]",
      "text/plain": [
       "<Figure size 640x480 with 1 Axes>"
      ]
     },
     "metadata": {},
     "output_type": "display_data"
    }
   ],
   "source": [
    "plt.imshow(x_train[0], cmap=\"gray\")"
   ]
  },
  {
   "cell_type": "markdown",
   "id": "e3c1e6e7-e1f0-4486-adcf-78c847c3ecdc",
   "metadata": {},
   "source": [
    "Now, let's build a function to add noise:"
   ]
  },
  {
   "cell_type": "code",
   "execution_count": 51,
   "id": "bf23bdfc-586a-499c-b970-2ff874115df9",
   "metadata": {},
   "outputs": [],
   "source": [
    "import random\n",
    "\n",
    "\n",
    "def add_noise(img, random_chance=5):\n",
    "    noisy = []\n",
    "    for row in img:\n",
    "        new_row = []\n",
    "        for pix in row:\n",
    "            if random.choice(range(100)) <= random_chance: \n",
    "                new_val = random.uniform(0, 1)\n",
    "                new_row.append(new_val)\n",
    "            else:\n",
    "                new_row.append(pix)\n",
    "        noisy.append(new_row)\n",
    "    return np.array(noisy)"
   ]
  },
  {
   "cell_type": "markdown",
   "id": "72a764f7-69f5-4f66-90b7-8fdeba20fc36",
   "metadata": {},
   "source": [
    "All this function does is iterate through each pixel and randomly, with a default of 5%, change the pixel to be white."
   ]
  },
  {
   "cell_type": "code",
   "execution_count": 52,
   "id": "12ac0675-a646-48f5-966c-300132f0bc1d",
   "metadata": {},
   "outputs": [
    {
     "data": {
      "text/plain": [
       "<matplotlib.image.AxesImage at 0x149a3bb10>"
      ]
     },
     "execution_count": 52,
     "metadata": {},
     "output_type": "execute_result"
    },
    {
     "data": {
      "image/png": "[encoded data removed]",
      "text/plain": [
       "<Figure size 640x480 with 1 Axes>"
      ]
     },
     "metadata": {},
     "output_type": "display_data"
    }
   ],
   "source": [
    "noisy = add_noise(x_train[0])\n",
    "plt.imshow(noisy, cmap=\"gray\")"
   ]
  },
  {
   "cell_type": "markdown",
   "id": "7c251abc-06b7-4920-ac85-56d9b0b70cb0",
   "metadata": {},
   "source": [
    "Here we have a very noisy \"5.\" What happens if we feed this noisy 5 through our autoencoder?"
   ]
  },
  {
   "cell_type": "code",
   "execution_count": 53,
   "id": "a134a97a-8e56-49cc-bb19-1b25ad1c2d8b",
   "metadata": {},
   "outputs": [
    {
     "name": "stdout",
     "output_type": "stream",
     "text": [
      "1/1 [==============================] - 0s 23ms/step\n"
     ]
    },
    {
     "data": {
      "text/plain": [
       "<matplotlib.image.AxesImage at 0x1593c3110>"
      ]
     },
     "execution_count": 53,
     "metadata": {},
     "output_type": "execute_result"
    },
    {
     "data": {
      "image/png": "[encoded data removed]",
      "text/plain": [
       "<Figure size 640x480 with 1 Axes>"
      ]
     },
     "metadata": {},
     "output_type": "display_data"
    }
   ],
   "source": [
    "ae_out = autoencoder.predict([ noisy.reshape(-1, 28, 28, 1) ])\n",
    "img = ae_out[0]  # predict is done on a vector, and returns a vector, even if its just 1 element, so we still need to grab the 0th\n",
    "plt.imshow(ae_out[0], cmap=\"gray\")"
   ]
  },
  {
   "cell_type": "markdown",
   "id": "e26f2feb-a757-4aa6-9aef-45301a8872d3",
   "metadata": {},
   "source": [
    "while not perfectly cleaned, you can see that a most of the noise has been removed.\n",
    "\n",
    "# Anslysing Model: Gap Filling\n",
    "\n",
    "What about filling in gaps?"
   ]
  },
  {
   "cell_type": "code",
   "execution_count": 54,
   "id": "55af456c-6366-45da-a9b5-350a348e9ccb",
   "metadata": {},
   "outputs": [],
   "source": [
    "def remove_values(img, random_chance=5):\n",
    "    noisy = []\n",
    "    for row in img:\n",
    "        new_row = []\n",
    "        for pix in row:\n",
    "            if random.choice(range(100)) <= random_chance: \n",
    "                new_val = 0  # changing this to be 0 \n",
    "                new_row.append(new_val)\n",
    "            else:\n",
    "                new_row.append(pix)\n",
    "        noisy.append(new_row)\n",
    "    return np.array(noisy)"
   ]
  },
  {
   "cell_type": "code",
   "execution_count": 55,
   "id": "59652d4f-f6d0-4bbf-a24c-f916f1359ae5",
   "metadata": {},
   "outputs": [
    {
     "data": {
      "text/plain": [
       "<matplotlib.image.AxesImage at 0x14fe04950>"
      ]
     },
     "execution_count": 55,
     "metadata": {},
     "output_type": "execute_result"
    },
    {
     "data": {
      "image/png": "[encoded data removed]",
      "text/plain": [
       "<Figure size 640x480 with 1 Axes>"
      ]
     },
     "metadata": {},
     "output_type": "display_data"
    }
   ],
   "source": [
    "some_hidden = remove_values(x_train[0], random_chance=15)  # slightly higher chance so we see more impact\n",
    "plt.imshow(some_hidden, cmap=\"gray\")"
   ]
  },
  {
   "cell_type": "code",
   "execution_count": 56,
   "id": "dfd2f790-e7fa-4e0d-94b3-f25dbfae6b0d",
   "metadata": {},
   "outputs": [
    {
     "name": "stdout",
     "output_type": "stream",
     "text": [
      "1/1 [==============================] - 0s 8ms/step\n"
     ]
    },
    {
     "data": {
      "text/plain": [
       "<matplotlib.image.AxesImage at 0x14943b110>"
      ]
     },
     "execution_count": 56,
     "metadata": {},
     "output_type": "execute_result"
    },
    {
     "data": {
      "image/png": "[encoded data removed]",
      "text/plain": [
       "<Figure size 640x480 with 1 Axes>"
      ]
     },
     "metadata": {},
     "output_type": "display_data"
    }
   ],
   "source": [
    "ae_out = autoencoder.predict([ some_hidden.reshape(-1, 28, 28, 1) ])\n",
    "img = ae_out[0]  # predict is done on a vector, and returns a vector, even if its just 1 element, so we still need to grab the 0th\n",
    "plt.imshow(ae_out[0], cmap=\"gray\")"
   ]
  },
  {
   "cell_type": "code",
   "execution_count": 57,
   "id": "1733267b-19ec-41bc-9aa4-8c9ec8b7ca9b",
   "metadata": {},
   "outputs": [
    {
     "data": {
      "text/plain": [
       "<matplotlib.image.AxesImage at 0x159323110>"
      ]
     },
     "execution_count": 57,
     "metadata": {},
     "output_type": "execute_result"
    },
    {
     "data": {
      "image/png": "[encoded data removed]",
      "text/plain": [
       "<Figure size 640x480 with 1 Axes>"
      ]
     },
     "metadata": {},
     "output_type": "display_data"
    }
   ],
   "source": [
    "some_hidden = remove_values(x_train[0], random_chance=35)  # slightly higher chance so we see more impact\n",
    "plt.imshow(some_hidden, cmap=\"gray\")"
   ]
  },
  {
   "cell_type": "code",
   "execution_count": 58,
   "id": "d428db0a-3cd6-42e5-abff-846bacac0213",
   "metadata": {},
   "outputs": [
    {
     "name": "stdout",
     "output_type": "stream",
     "text": [
      "1/1 [==============================] - 0s 9ms/step\n"
     ]
    },
    {
     "data": {
      "text/plain": [
       "<matplotlib.image.AxesImage at 0x1494cb110>"
      ]
     },
     "execution_count": 58,
     "metadata": {},
     "output_type": "execute_result"
    },
    {
     "data": {
      "image/png": "[encoded data removed]",
      "text/plain": [
       "<Figure size 640x480 with 1 Axes>"
      ]
     },
     "metadata": {},
     "output_type": "display_data"
    }
   ],
   "source": [
    "ae_out = autoencoder.predict([ some_hidden.reshape(-1, 28, 28, 1) ])\n",
    "img = ae_out[0]  # predict is done on a vector, and returns a vector, even if its just 1 element, so we still need to grab the 0th\n",
    "plt.imshow(ae_out[0], cmap=\"gray\")"
   ]
  },
  {
   "cell_type": "markdown",
   "id": "9d174904-6d9a-48c6-a9bc-f4d0f3386ab5",
   "metadata": {},
   "source": [
    "# Conclusion\n",
    "\n",
    "So there you have some image-based examples of autoencoders and what they can do. Autoencoders can be used in the same way for other types of data too, so definitely try them out next time you have a large number of features in your neural network's input!"
   ]
  }
 ],
 "metadata": {
  "kernelspec": {
   "display_name": "notebook",
   "language": "python",
   "name": "notebook"
  },
  "language_info": {
   "codemirror_mode": {
    "name": "ipython",
    "version": 3
   },
   "file_extension": ".py",
   "mimetype": "text/x-python",
   "name": "python",
   "nbconvert_exporter": "python",
   "pygments_lexer": "ipython3",
   "version": "3.11.4"
  },
  "toc-autonumbering": false,
  "toc-showmarkdowntxt": false
 },
 "nbformat": 4,
 "nbformat_minor": 5
}
