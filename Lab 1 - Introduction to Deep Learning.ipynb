{
 "cells": [
  {
   "cell_type": "markdown",
   "id": "7cc9d31e-16a0-4ff0-b846-3a865f11b9f9",
   "metadata": {
    "tags": []
   },
   "source": [
    "# Lab 1: Introduction to Deep Learning\n",
    "To begin, we need to find some balance between treating neural networks like a total black box, and understanding every single detail with them.\n",
    "\n",
    "## Typical Model\n",
    "\n",
    "Let's show a typical model:\n",
    "\n",
    "![Alt text](https://vitalflux.com/wp-content/uploads/2020/09/Screenshot-2020-09-17-at-11.12.54-AM-1024x586.png \"a title\")\n",
    "\n",
    "## Hidden Layers\n",
    "\n",
    "A basic neural network consists of an input layer, which is just your data, in numerical form. After your input layer, you will have some number of what are called \"hidden\" layers. A hidden layer is just in between your input and output layers. One hidden layer means you just have a neural network. Two or more hidden layers? Boom, you've got a deep neural network!\n",
    "\n",
    "Why is this? Well, if you just have a single hidden layer, the model is going to only learn linear relationships.\n",
    "\n",
    "If you have many hidden layers, you can begin to learn non-linear relationships between your input and output layers.\n",
    "\n",
    "A single neuron might look as follows:\n",
    "\n",
    "![Alt text](https://www.researchgate.net/publication/340603309/figure/download/fig2/AS:879847974899717@1586783512929/Diagram-of-the-artificial-neuron-deep-learning-Source-created-by-Chrislb-CC-BY-SA.png \"a title\")\n",
    "\n",
    "So this is really where the magic happens. The idea is a single neuron is just sum of all of the inputs x weights, fed through some sort of activation function. The activation function is meant to simulate a neuron firing or not. A simple example would be a stepper function, where, at some point, the threshold is crossed, and the neuron fires a 1, else a 0. Let's say that neuron is in the first hidden layer, and it's going to communicate with the next hidden layer. So it's going to send it's 0 or a 1 signal, multiplied by the weights, to the next neuron, and this is the process for all neurons and all layers.\n",
    "\n",
    "The mathematical challenge for the artificial neural network is to best optimize thousands or millions or whatever number of weights you have, so that your output layer results in what you were hoping for. Solving for this problem, and building out the layers of our neural network model is exactly what TensorFlow is for. TensorFlow is used for all things \"operations on tensors.\" A tensor in this case is nothing fancy. It's a multi-dimensional array."
   ]
  },
  {
   "cell_type": "markdown",
   "id": "c89c8337-d4d4-470e-94ce-b06d365ce6b5",
   "metadata": {},
   "source": [
    "## Step 1: Installing Dependency\n",
    "To install TensorFlow, simply do a:"
   ]
  },
  {
   "cell_type": "code",
   "execution_count": 1,
   "id": "2cf83cde-1794-41a3-809f-dd920dbbdb05",
   "metadata": {},
   "outputs": [],
   "source": [
    "# code here\n",
    "# !pip install tensorflow matplotlib"
   ]
  },
  {
   "cell_type": "markdown",
   "id": "a2823fd7-9e9f-4f40-bbc4-2aa13bfbb030",
   "metadata": {},
   "source": [
    "## Step 2: Importing Library\n",
    "Following the release of deep learning libraries, higher-level API-like libraries came out, which sit on top of the deep learning libraries, like TensorFlow, which make building, testing, and tweaking models even more simple. One such library that has easily become the most popular is Keras.\n",
    "\n",
    "Keras has become so popular, that it is now a superset, included with TensorFlow releases now! If you're familiar with Keras previously, you can still use it, but now you can use tensorflow.keras to call it. By that same token, if you find example code that uses Keras, you can use with the TensorFlow version of Keras too. In fact, you can just do something like:"
   ]
  },
  {
   "cell_type": "code",
   "execution_count": 2,
   "id": "b19c9982-7bc4-4add-904a-c243b5ff421f",
   "metadata": {},
   "outputs": [
    {
     "name": "stdout",
     "output_type": "stream",
     "text": [
      "2.13.0\n"
     ]
    }
   ],
   "source": [
    "# code here\n",
    "import tensorflow as tf\n",
    "import os \n",
    "os.environ['TF_FPP_MIN_LOG_LEVEL'] = '2' \n",
    "print(tf.__version__)"
   ]
  },
  {
   "cell_type": "markdown",
   "id": "450bd645-5e9c-4c08-bba8-b22bc9add513",
   "metadata": {},
   "source": [
    "## Step 3: Preparing Data\n",
    "Once we've got tensorflow imported, we can then begin to prepare our data, model it, and then train it. For the sake of simplicity, we'll be using the most common \"hello world\" example for deep learning, which is the mnist dataset. It's a dataset of hand-written digits, 0 through 9. It's 28x28 images of these hand-written digits. We will show an example of using outside data as well, but, for now, let's load in this data:"
   ]
  },
  {
   "cell_type": "code",
   "execution_count": 3,
   "id": "612ecf94-ebad-4db6-9f70-6ad39e13a3a2",
   "metadata": {},
   "outputs": [],
   "source": [
    "# code here\n",
    "mnist = tf.keras.datasets.mnist\n",
    "(x_train, y_train),(x_test, y_test) = mnist.load_data()"
   ]
  },
  {
   "cell_type": "markdown",
   "id": "76b44fd4-d652-4dd3-bb51-947a5248105e",
   "metadata": {},
   "source": [
    "When you're working with your own collected data, chances are, it wont be packaged up so nicely, and you'll spend a bit more time and effort on this step. But, for now, woo!\n",
    "\n",
    "What exactly do we have here? Let's take a quick peak.\n",
    "\n",
    "So the x_train data is the \"features.\" In this case, the features are pixel values of the 28x28 images of these digits 0-9. The y_train is the label (is it a 0,1,2,3,4,5,6,7,8 or a 9?)\n",
    "\n",
    "The testing variants of these variables is the \"out of sample\" examples that we will use. These are examples from our data that we're going to set aside, reserving them for testing the model.\n",
    "\n",
    "Neural networks are exceptionally good at fitting to data, so much so that they will commonly over-fit the data. Our real hope is that the neural network doesn't just memorize our data and that it instead \"generalizes\" and learns the actual problem and patterns associated with it.\n",
    "\n",
    "Let's look at this actual data:"
   ]
  },
  {
   "cell_type": "code",
   "execution_count": 4,
   "id": "263d5d24-479b-4b2b-8f3d-b227b792e77c",
   "metadata": {},
   "outputs": [
    {
     "name": "stdout",
     "output_type": "stream",
     "text": [
      "[[  0   0   0   0   0   0   0   0   0   0   0   0   0   0   0   0   0   0\n",
      "    0   0   0   0   0   0   0   0   0   0]\n",
      " [  0   0   0   0   0   0   0   0   0   0   0   0   0   0   0   0   0   0\n",
      "    0   0   0   0   0   0   0   0   0   0]\n",
      " [  0   0   0   0   0   0   0   0   0   0   0   0   0   0   0   0   0   0\n",
      "    0   0   0   0   0   0   0   0   0   0]\n",
      " [  0   0   0   0   0   0   0   0   0   0   0   0   0   0   0   0   0   0\n",
      "    0   0   0   0   0   0   0   0   0   0]\n",
      " [  0   0   0   0   0   0   0   0   0   0   0   0   0   0   0   0   0   0\n",
      "    0   0   0   0   0   0   0   0   0   0]\n",
      " [  0   0   0   0   0   0   0   0   0   0   0   0   3  18  18  18 126 136\n",
      "  175  26 166 255 247 127   0   0   0   0]\n",
      " [  0   0   0   0   0   0   0   0  30  36  94 154 170 253 253 253 253 253\n",
      "  225 172 253 242 195  64   0   0   0   0]\n",
      " [  0   0   0   0   0   0   0  49 238 253 253 253 253 253 253 253 253 251\n",
      "   93  82  82  56  39   0   0   0   0   0]\n",
      " [  0   0   0   0   0   0   0  18 219 253 253 253 253 253 198 182 247 241\n",
      "    0   0   0   0   0   0   0   0   0   0]\n",
      " [  0   0   0   0   0   0   0   0  80 156 107 253 253 205  11   0  43 154\n",
      "    0   0   0   0   0   0   0   0   0   0]\n",
      " [  0   0   0   0   0   0   0   0   0  14   1 154 253  90   0   0   0   0\n",
      "    0   0   0   0   0   0   0   0   0   0]\n",
      " [  0   0   0   0   0   0   0   0   0   0   0 139 253 190   2   0   0   0\n",
      "    0   0   0   0   0   0   0   0   0   0]\n",
      " [  0   0   0   0   0   0   0   0   0   0   0  11 190 253  70   0   0   0\n",
      "    0   0   0   0   0   0   0   0   0   0]\n",
      " [  0   0   0   0   0   0   0   0   0   0   0   0  35 241 225 160 108   1\n",
      "    0   0   0   0   0   0   0   0   0   0]\n",
      " [  0   0   0   0   0   0   0   0   0   0   0   0   0  81 240 253 253 119\n",
      "   25   0   0   0   0   0   0   0   0   0]\n",
      " [  0   0   0   0   0   0   0   0   0   0   0   0   0   0  45 186 253 253\n",
      "  150  27   0   0   0   0   0   0   0   0]\n",
      " [  0   0   0   0   0   0   0   0   0   0   0   0   0   0   0  16  93 252\n",
      "  253 187   0   0   0   0   0   0   0   0]\n",
      " [  0   0   0   0   0   0   0   0   0   0   0   0   0   0   0   0   0 249\n",
      "  253 249  64   0   0   0   0   0   0   0]\n",
      " [  0   0   0   0   0   0   0   0   0   0   0   0   0   0  46 130 183 253\n",
      "  253 207   2   0   0   0   0   0   0   0]\n",
      " [  0   0   0   0   0   0   0   0   0   0   0   0  39 148 229 253 253 253\n",
      "  250 182   0   0   0   0   0   0   0   0]\n",
      " [  0   0   0   0   0   0   0   0   0   0  24 114 221 253 253 253 253 201\n",
      "   78   0   0   0   0   0   0   0   0   0]\n",
      " [  0   0   0   0   0   0   0   0  23  66 213 253 253 253 253 198  81   2\n",
      "    0   0   0   0   0   0   0   0   0   0]\n",
      " [  0   0   0   0   0   0  18 171 219 253 253 253 253 195  80   9   0   0\n",
      "    0   0   0   0   0   0   0   0   0   0]\n",
      " [  0   0   0   0  55 172 226 253 253 253 253 244 133  11   0   0   0   0\n",
      "    0   0   0   0   0   0   0   0   0   0]\n",
      " [  0   0   0   0 136 253 253 253 212 135 132  16   0   0   0   0   0   0\n",
      "    0   0   0   0   0   0   0   0   0   0]\n",
      " [  0   0   0   0   0   0   0   0   0   0   0   0   0   0   0   0   0   0\n",
      "    0   0   0   0   0   0   0   0   0   0]\n",
      " [  0   0   0   0   0   0   0   0   0   0   0   0   0   0   0   0   0   0\n",
      "    0   0   0   0   0   0   0   0   0   0]\n",
      " [  0   0   0   0   0   0   0   0   0   0   0   0   0   0   0   0   0   0\n",
      "    0   0   0   0   0   0   0   0   0   0]]\n"
     ]
    }
   ],
   "source": [
    "# code here\n",
    "print(x_train[0])"
   ]
  },
  {
   "cell_type": "markdown",
   "id": "942d4403-0b7f-430f-88a3-19ab271a7eef",
   "metadata": {},
   "source": [
    "## Step 4: Visualising Data\n",
    "Alright, could we visualize this?"
   ]
  },
  {
   "cell_type": "code",
   "execution_count": 5,
   "id": "b737c2c1-cc29-4c89-a6e9-be0ab2f2bd0f",
   "metadata": {},
   "outputs": [
    {
     "data": {
      "image/png": "[encoded data removed]",
      "text/plain": [
       "<Figure size 640x480 with 1 Axes>"
      ]
     },
     "metadata": {},
     "output_type": "display_data"
    }
   ],
   "source": [
    "# code here\n",
    "import matplotlib.pyplot as plt\n",
    "\n",
    "plt.imshow(x_train[0],cmap=plt.cm.binary) \n",
    "plt.show()"
   ]
  },
  {
   "cell_type": "markdown",
   "id": "6a08aa59-d25d-445a-90f0-7c39b6cd243b",
   "metadata": {},
   "source": [
    "Okay, that makes sense. How about the value for y_train with the same index?"
   ]
  },
  {
   "cell_type": "code",
   "execution_count": 6,
   "id": "53d9d542-ece7-41a4-bd1a-b079fa6b810b",
   "metadata": {},
   "outputs": [
    {
     "name": "stdout",
     "output_type": "stream",
     "text": [
      "5\n"
     ]
    }
   ],
   "source": [
    "# code here\n",
    "print(y_train[0])"
   ]
  },
  {
   "cell_type": "markdown",
   "id": "4ecb67c1-ad2c-436e-b1a0-41b81e8344d1",
   "metadata": {},
   "source": [
    "## Step 5: Normalising Data\n",
    "It's generally a good idea to \"normalize\" your data. This typically involves scaling the data to be between 0 and 1, or maybe -1 and positive 1. In our case, each \"pixel\" is a feature, and each feature currently ranges from 0 to 255. Not quite 0 to 1. Let's change that with a handy utility function:"
   ]
  },
  {
   "cell_type": "code",
   "execution_count": 7,
   "id": "5ad5e164-3ad6-446a-8c3d-0c826a347ce0",
   "metadata": {},
   "outputs": [],
   "source": [
    "# code here\n",
    "x_train = tf.keras.utils.normalize(x_train, axis=1) \n",
    "x_test = tf.keras.utils.normalize(x_test, axis=1)"
   ]
  },
  {
   "cell_type": "markdown",
   "id": "07d7e114-140a-4596-9bd2-5506366c33b0",
   "metadata": {},
   "source": [
    "Let's peak one more time:"
   ]
  },
  {
   "cell_type": "code",
   "execution_count": 8,
   "id": "b744e057-7e37-4156-85a7-885894a388fd",
   "metadata": {},
   "outputs": [
    {
     "name": "stdout",
     "output_type": "stream",
     "text": [
      "[[0.         0.         0.         0.         0.         0.\n",
      "  0.         0.         0.         0.         0.         0.\n",
      "  0.         0.         0.         0.         0.         0.\n",
      "  0.         0.         0.         0.         0.         0.\n",
      "  0.         0.         0.         0.        ]\n",
      " [0.         0.         0.         0.         0.         0.\n",
      "  0.         0.         0.         0.         0.         0.\n",
      "  0.         0.         0.         0.         0.         0.\n",
      "  0.         0.         0.         0.         0.         0.\n",
      "  0.         0.         0.         0.        ]\n",
      " [0.         0.         0.         0.         0.         0.\n",
      "  0.         0.         0.         0.         0.         0.\n",
      "  0.         0.         0.         0.         0.         0.\n",
      "  0.         0.         0.         0.         0.         0.\n",
      "  0.         0.         0.         0.        ]\n",
      " [0.         0.         0.         0.         0.         0.\n",
      "  0.         0.         0.         0.         0.         0.\n",
      "  0.         0.         0.         0.         0.         0.\n",
      "  0.         0.         0.         0.         0.         0.\n",
      "  0.         0.         0.         0.        ]\n",
      " [0.         0.         0.         0.         0.         0.\n",
      "  0.         0.         0.         0.         0.         0.\n",
      "  0.         0.         0.         0.         0.         0.\n",
      "  0.         0.         0.         0.         0.         0.\n",
      "  0.         0.         0.         0.        ]\n",
      " [0.         0.         0.         0.         0.         0.\n",
      "  0.         0.         0.         0.         0.         0.\n",
      "  0.00393124 0.02332955 0.02620568 0.02625207 0.17420356 0.17566281\n",
      "  0.28629534 0.05664824 0.51877786 0.71632322 0.77892406 0.89301644\n",
      "  0.         0.         0.         0.        ]\n",
      " [0.         0.         0.         0.         0.         0.\n",
      "  0.         0.         0.05780486 0.06524513 0.16128198 0.22713296\n",
      "  0.22277047 0.32790981 0.36833534 0.3689874  0.34978968 0.32678448\n",
      "  0.368094   0.3747499  0.79066747 0.67980478 0.61494005 0.45002403\n",
      "  0.         0.         0.         0.        ]\n",
      " [0.         0.         0.         0.         0.         0.\n",
      "  0.         0.12250613 0.45858525 0.45852825 0.43408872 0.37314701\n",
      "  0.33153488 0.32790981 0.36833534 0.3689874  0.34978968 0.32420121\n",
      "  0.15214552 0.17865984 0.25626376 0.1573102  0.12298801 0.\n",
      "  0.         0.         0.         0.        ]\n",
      " [0.         0.         0.         0.         0.         0.\n",
      "  0.         0.04500225 0.4219755  0.45852825 0.43408872 0.37314701\n",
      "  0.33153488 0.32790981 0.28826244 0.26543758 0.34149427 0.31128482\n",
      "  0.         0.         0.         0.         0.         0.\n",
      "  0.         0.         0.         0.        ]\n",
      " [0.         0.         0.         0.         0.         0.\n",
      "  0.         0.         0.1541463  0.28272888 0.18358693 0.37314701\n",
      "  0.33153488 0.26569767 0.01601458 0.         0.05945042 0.19891229\n",
      "  0.         0.         0.         0.         0.         0.\n",
      "  0.         0.         0.         0.        ]\n",
      " [0.         0.         0.         0.         0.         0.\n",
      "  0.         0.         0.         0.0253731  0.00171577 0.22713296\n",
      "  0.33153488 0.11664776 0.         0.         0.         0.\n",
      "  0.         0.         0.         0.         0.         0.\n",
      "  0.         0.         0.         0.        ]\n",
      " [0.         0.         0.         0.         0.         0.\n",
      "  0.         0.         0.         0.         0.         0.20500962\n",
      "  0.33153488 0.24625638 0.00291174 0.         0.         0.\n",
      "  0.         0.         0.         0.         0.         0.\n",
      "  0.         0.         0.         0.        ]\n",
      " [0.         0.         0.         0.         0.         0.\n",
      "  0.         0.         0.         0.         0.         0.01622378\n",
      "  0.24897876 0.32790981 0.10191096 0.         0.         0.\n",
      "  0.         0.         0.         0.         0.         0.\n",
      "  0.         0.         0.         0.        ]\n",
      " [0.         0.         0.         0.         0.         0.\n",
      "  0.         0.         0.         0.         0.         0.\n",
      "  0.04586451 0.31235677 0.32757096 0.23335172 0.14931733 0.00129164\n",
      "  0.         0.         0.         0.         0.         0.\n",
      "  0.         0.         0.         0.        ]\n",
      " [0.         0.         0.         0.         0.         0.\n",
      "  0.         0.         0.         0.         0.         0.\n",
      "  0.         0.10498298 0.34940902 0.3689874  0.34978968 0.15370495\n",
      "  0.04089933 0.         0.         0.         0.         0.\n",
      "  0.         0.         0.         0.        ]\n",
      " [0.         0.         0.         0.         0.         0.\n",
      "  0.         0.         0.         0.         0.         0.\n",
      "  0.         0.         0.06551419 0.27127137 0.34978968 0.32678448\n",
      "  0.245396   0.05882702 0.         0.         0.         0.\n",
      "  0.         0.         0.         0.        ]\n",
      " [0.         0.         0.         0.         0.         0.\n",
      "  0.         0.         0.         0.         0.         0.\n",
      "  0.         0.         0.         0.02333517 0.12857881 0.32549285\n",
      "  0.41390126 0.40743158 0.         0.         0.         0.\n",
      "  0.         0.         0.         0.        ]\n",
      " [0.         0.         0.         0.         0.         0.\n",
      "  0.         0.         0.         0.         0.         0.\n",
      "  0.         0.         0.         0.         0.         0.32161793\n",
      "  0.41390126 0.54251585 0.20001074 0.         0.         0.\n",
      "  0.         0.         0.         0.        ]\n",
      " [0.         0.         0.         0.         0.         0.\n",
      "  0.         0.         0.         0.         0.         0.\n",
      "  0.         0.         0.06697006 0.18959827 0.25300993 0.32678448\n",
      "  0.41390126 0.45100715 0.00625034 0.         0.         0.\n",
      "  0.         0.         0.         0.        ]\n",
      " [0.         0.         0.         0.         0.         0.\n",
      "  0.         0.         0.         0.         0.         0.\n",
      "  0.05110617 0.19182076 0.33339444 0.3689874  0.34978968 0.32678448\n",
      "  0.40899334 0.39653769 0.         0.         0.         0.\n",
      "  0.         0.         0.         0.        ]\n",
      " [0.         0.         0.         0.         0.         0.\n",
      "  0.         0.         0.         0.         0.04117838 0.16813739\n",
      "  0.28960162 0.32790981 0.36833534 0.3689874  0.34978968 0.25961929\n",
      "  0.12760592 0.         0.         0.         0.         0.\n",
      "  0.         0.         0.         0.        ]\n",
      " [0.         0.         0.         0.         0.         0.\n",
      "  0.         0.         0.04431706 0.11961607 0.36545809 0.37314701\n",
      "  0.33153488 0.32790981 0.36833534 0.28877275 0.111988   0.00258328\n",
      "  0.         0.         0.         0.         0.         0.\n",
      "  0.         0.         0.         0.        ]\n",
      " [0.         0.         0.         0.         0.         0.\n",
      "  0.05298497 0.42752138 0.4219755  0.45852825 0.43408872 0.37314701\n",
      "  0.33153488 0.25273681 0.11646967 0.01312603 0.         0.\n",
      "  0.         0.         0.         0.         0.         0.\n",
      "  0.         0.         0.         0.        ]\n",
      " [0.         0.         0.         0.         0.37491383 0.56222061\n",
      "  0.66525569 0.63253163 0.48748768 0.45852825 0.43408872 0.359873\n",
      "  0.17428513 0.01425695 0.         0.         0.         0.\n",
      "  0.         0.         0.         0.         0.         0.\n",
      "  0.         0.         0.         0.        ]\n",
      " [0.         0.         0.         0.         0.92705966 0.82698729\n",
      "  0.74473314 0.63253163 0.4084877  0.24466922 0.22648107 0.02359823\n",
      "  0.         0.         0.         0.         0.         0.\n",
      "  0.         0.         0.         0.         0.         0.\n",
      "  0.         0.         0.         0.        ]\n",
      " [0.         0.         0.         0.         0.         0.\n",
      "  0.         0.         0.         0.         0.         0.\n",
      "  0.         0.         0.         0.         0.         0.\n",
      "  0.         0.         0.         0.         0.         0.\n",
      "  0.         0.         0.         0.        ]\n",
      " [0.         0.         0.         0.         0.         0.\n",
      "  0.         0.         0.         0.         0.         0.\n",
      "  0.         0.         0.         0.         0.         0.\n",
      "  0.         0.         0.         0.         0.         0.\n",
      "  0.         0.         0.         0.        ]\n",
      " [0.         0.         0.         0.         0.         0.\n",
      "  0.         0.         0.         0.         0.         0.\n",
      "  0.         0.         0.         0.         0.         0.\n",
      "  0.         0.         0.         0.         0.         0.\n",
      "  0.         0.         0.         0.        ]]\n"
     ]
    },
    {
     "data": {
      "image/png": "[encoded data removed]",
      "text/plain": [
       "<Figure size 640x480 with 1 Axes>"
      ]
     },
     "metadata": {},
     "output_type": "display_data"
    }
   ],
   "source": [
    "# code here\n",
    "print(x_train[0])\n",
    "\n",
    "plt.imshow(x_train[0],cmap=plt.cm.binary) \n",
    "plt.show()"
   ]
  },
  {
   "cell_type": "markdown",
   "id": "5b5ea22a-bd73-4258-8317-b55be4773852",
   "metadata": {
    "tags": []
   },
   "source": [
    "Alright, still a 5. Now let's build our model!"
   ]
  },
  {
   "cell_type": "code",
   "execution_count": 9,
   "id": "a4d7fcb7-fc04-4821-be22-c7fcc9cba71c",
   "metadata": {},
   "outputs": [],
   "source": [
    "# code here\n",
    "model = tf.keras.models.Sequential()"
   ]
  },
  {
   "cell_type": "markdown",
   "id": "2b9123c6-c3bb-43bd-967e-a4ae7beb3793",
   "metadata": {},
   "source": [
    "A sequential model is what you're going to use most of the time. It just means things are going to go in direct order. A feed forward model. No going backwards...for now.\n",
    "\n",
    "## Step 6: Flatting Data\n",
    "\n",
    "Now, we'll pop in layers. Recall our neural network image? Was the input layer flat, or was it multi-dimensional? It was flat. So, we need to take this 28x28 image, and make it a flat 1x784. There are many ways for us to do this, but keras has a Flatten layer built just for us, so we'll use that."
   ]
  },
  {
   "cell_type": "code",
   "execution_count": 10,
   "id": "dcd0c364-41eb-426d-a2d1-26507e3b1dc1",
   "metadata": {},
   "outputs": [],
   "source": [
    "# code here\n",
    "model.add(tf.keras.layers.Flatten())"
   ]
  },
  {
   "cell_type": "markdown",
   "id": "66b2188e-a0c8-47cd-b636-f48128f60e4b",
   "metadata": {},
   "source": [
    "## Step 7: Creating Hidden Layers\n",
    "This will serve as our input layer. It's going to take the data we throw at it, and just flatten it for us. Next, we want our hidden layers. We're going to go with the simplest neural network layer, which is just a Dense layer. This refers to the fact that it's a densely-connected layer, meaning it's \"fully connected,\" where each node connects to each prior and subsequent node. Just like our image."
   ]
  },
  {
   "cell_type": "code",
   "execution_count": 11,
   "id": "8fedc26c-30cf-4dd4-8849-99baa19482ad",
   "metadata": {},
   "outputs": [],
   "source": [
    "# code here\n",
    "model.add(tf.keras.layers.Dense(128, activation=tf.nn.relu))"
   ]
  },
  {
   "cell_type": "markdown",
   "id": "a8194cd5-07eb-4796-8e0b-0176838e8c1e",
   "metadata": {},
   "source": [
    "This layer has 128 units. The activation function is relu, short for rectified linear. Currently, relu is the activation function you should just default to. There are many more to test for sure, but, if you don't know what to use, use relu to start.\n",
    "\n",
    "## Step 8: Adding Rectified Lineer (RELU)\n",
    "\n",
    "Let's add another identical layer for good measure."
   ]
  },
  {
   "cell_type": "code",
   "execution_count": 12,
   "id": "1f3b84c5-05e2-4b7d-bd27-852a91d91507",
   "metadata": {},
   "outputs": [],
   "source": [
    "# code here\n",
    "model.add(tf.keras.layers.Dense(128, activation=tf.nn.relu))"
   ]
  },
  {
   "cell_type": "markdown",
   "id": "42f2b9d4-115e-4df5-9c95-3c38c788e0fc",
   "metadata": {},
   "source": [
    "Now, we're ready for an output layer:"
   ]
  },
  {
   "cell_type": "code",
   "execution_count": 13,
   "id": "f559b639-104e-4105-890e-618a0c9cd775",
   "metadata": {},
   "outputs": [],
   "source": [
    "# code here\n",
    "model.add(tf.keras.layers.Dense(10, activation=tf.nn.softmax))"
   ]
  },
  {
   "cell_type": "markdown",
   "id": "0ba43eae-bb71-4dfe-aac0-c64558185b7d",
   "metadata": {},
   "source": [
    "This is our final layer. It has 10 nodes. 1 node per possible number prediction. In this case, our activation function is a softmax function, since we're really actually looking for something more like a probability distribution of which of the possible prediction options this thing we're passing features through of is. Great, our model is done.\n",
    "\n",
    "## Step 9: Compiling Model\n",
    "\n",
    "Now we need to \"compile\" the model. This is where we pass the settings for actually optimizing/training the model we've defined."
   ]
  },
  {
   "cell_type": "code",
   "execution_count": 14,
   "id": "8379a395-b2b4-43e4-be6c-4aebe46e00d0",
   "metadata": {},
   "outputs": [],
   "source": [
    "# code here\n",
    "model.compile(optimizer='adam', \n",
    "              loss='sparse_categorical_crossentropy', \n",
    "              metrics=['accuracy'])"
   ]
  },
  {
   "cell_type": "markdown",
   "id": "cf619847-9c27-47f1-a0cc-aa6e30bbb1fc",
   "metadata": {},
   "source": [
    "Remember why we picked relu as an activation function? Same thing is true for the Adam optimizer. It's just a great default to start with.\n",
    "\n",
    "Next, we have our loss metric. Loss is a calculation of error. A neural network doesn't actually attempt to maximize accuracy. It attempts to minimize loss. Again, there are many choices, but some form of categorical crossentropy is a good start for a classification task like this.\n",
    "\n",
    "## Step 10: Training Model\n",
    "\n",
    "Now, we fit!"
   ]
  },
  {
   "cell_type": "code",
   "execution_count": 15,
   "id": "2777ed77-875f-4b0e-a30b-23f13dff39bc",
   "metadata": {},
   "outputs": [
    {
     "name": "stdout",
     "output_type": "stream",
     "text": [
      "Epoch 1/3\n",
      "1875/1875 [==============================] - 2s 954us/step - loss: 0.2614 - accuracy: 0.9239\n",
      "Epoch 2/3\n",
      "1875/1875 [==============================] - 2s 926us/step - loss: 0.1062 - accuracy: 0.9669\n",
      "Epoch 3/3\n",
      "1875/1875 [==============================] - 2s 944us/step - loss: 0.0715 - accuracy: 0.9772\n"
     ]
    },
    {
     "data": {
      "text/plain": [
       "<keras.src.callbacks.History at 0x130cf7f50>"
      ]
     },
     "execution_count": 15,
     "metadata": {},
     "output_type": "execute_result"
    }
   ],
   "source": [
    "# code here\n",
    "model.fit(x_train, y_train, epochs=3)"
   ]
  },
  {
   "cell_type": "markdown",
   "id": "4854eb38-2ebe-46dd-9c9d-8ec5338cdd8b",
   "metadata": {},
   "source": [
    "As we train, we can see loss goes down (yay), and accuracy improves quite quickly to 98-99% (double yay!)\n",
    "\n",
    "## Step 11: Evaluating Model\n",
    "\n",
    "Now that's loss and accuracy for in-sample data. Getting a high accuracy and low loss might mean your model learned how to classify digits in general (it generalized)...or it simply memorized every single example you showed it (it overfit). This is why we need to test on out-of-sample data (data we didn't use to train the model)."
   ]
  },
  {
   "cell_type": "code",
   "execution_count": 16,
   "id": "63f2a80e-c883-4cc6-808f-86be0a56c63f",
   "metadata": {},
   "outputs": [
    {
     "name": "stdout",
     "output_type": "stream",
     "text": [
      "313/313 [==============================] - 0s 382us/step - loss: 0.1025 - accuracy: 0.9677\n",
      "0.10247763991355896\n",
      "0.9677000045776367\n"
     ]
    }
   ],
   "source": [
    "# code here\n",
    "val_loss, val_acc = model.evaluate(x_test, y_test)\n",
    "print(val_loss)\n",
    "print(val_acc)"
   ]
  },
  {
   "cell_type": "markdown",
   "id": "2562ae9f-c1e9-4a76-99ad-7ca226116564",
   "metadata": {},
   "source": [
    "It's going to be very likely your accuracy out of sample is a bit worse, same with loss. In fact, it should be a red flag if it's identical, or better.\n",
    "\n",
    "## Step 12: Save and Load Model\n",
    "\n",
    "Finally, with your model, you can save it super easily:"
   ]
  },
  {
   "cell_type": "code",
   "execution_count": 17,
   "id": "ac00128b-8ce8-4ee1-ad01-09966f7a0913",
   "metadata": {},
   "outputs": [
    {
     "name": "stdout",
     "output_type": "stream",
     "text": [
      "INFO:tensorflow:Assets written to: ec_num_reader.model/assets\n"
     ]
    },
    {
     "name": "stderr",
     "output_type": "stream",
     "text": [
      "INFO:tensorflow:Assets written to: ec_num_reader.model/assets\n"
     ]
    }
   ],
   "source": [
    "# code here\n",
    "model.save('ec_num_reader.model')"
   ]
  },
  {
   "cell_type": "markdown",
   "id": "f49ac4b7-0e28-4af2-8ab5-ce422b8ca890",
   "metadata": {},
   "source": [
    "Load it back:"
   ]
  },
  {
   "cell_type": "code",
   "execution_count": 18,
   "id": "8fcc4099-9b30-489b-a35c-a5cdaf2a51c6",
   "metadata": {},
   "outputs": [],
   "source": [
    "# code here\n",
    "new_model = tf.keras.models.load_model('ec_num_reader.model')"
   ]
  },
  {
   "cell_type": "markdown",
   "id": "bce60258-c345-467b-af39-e116d69d78ac",
   "metadata": {},
   "source": [
    "## Step 13: Predictions\n",
    "\n",
    "Finally, make predictions!"
   ]
  },
  {
   "cell_type": "code",
   "execution_count": 19,
   "id": "3e662844-deea-4cfb-b9bc-8250c23b7fd2",
   "metadata": {},
   "outputs": [
    {
     "name": "stdout",
     "output_type": "stream",
     "text": [
      "313/313 [==============================] - 0s 352us/step\n",
      "[[1.46521031e-10 1.24447945e-08 7.08223411e-07 ... 9.99958038e-01\n",
      "  7.98515742e-09 2.23903385e-06]\n",
      " [1.03103859e-09 1.25726787e-04 9.99866724e-01 ... 3.80286913e-09\n",
      "  5.35980689e-07 1.44838542e-11]\n",
      " [6.81209400e-08 9.99805987e-01 1.70687872e-06 ... 1.30603745e-04\n",
      "  1.70003204e-05 6.14850615e-06]\n",
      " ...\n",
      " [3.81701923e-08 9.87228645e-07 1.34847909e-07 ... 6.13753127e-06\n",
      "  6.12819667e-06 5.80339087e-03]\n",
      " [9.33989122e-06 4.48256833e-06 4.01688169e-07 ... 6.91539390e-06\n",
      "  3.51161859e-03 4.09207018e-07]\n",
      " [5.23007202e-07 1.18930519e-08 3.16097264e-08 ... 3.21760570e-11\n",
      "  1.98870521e-06 1.27035307e-08]]\n"
     ]
    }
   ],
   "source": [
    "# code here\n",
    "predictions = new_model.predict(x_test)\n",
    "print(predictions)"
   ]
  },
  {
   "cell_type": "markdown",
   "id": "4a886cd6-4284-463f-8979-004d1d4d30e1",
   "metadata": {},
   "source": [
    "## Step 14: Evaluating Predictions\n",
    "\n",
    "That sure doesn't start off as helpful, but recall these are probability distributions. We can get the actual number pretty simply:"
   ]
  },
  {
   "cell_type": "code",
   "execution_count": 20,
   "id": "d2e33d47-e550-4ed8-8174-69e7fb4c1986",
   "metadata": {},
   "outputs": [
    {
     "name": "stdout",
     "output_type": "stream",
     "text": [
      "7\n"
     ]
    }
   ],
   "source": [
    "# code here\n",
    "import numpy as np\n",
    "\n",
    "print(np.argmax(predictions[0]))"
   ]
  },
  {
   "cell_type": "markdown",
   "id": "b1a9767f-4053-4c56-839f-3f26d4527793",
   "metadata": {},
   "source": [
    "There's your prediction, let's look at the input:"
   ]
  },
  {
   "cell_type": "code",
   "execution_count": 21,
   "id": "e0cbfb43-8e45-403a-934a-3b0bdc588c6f",
   "metadata": {},
   "outputs": [
    {
     "data": {
      "image/png": "[encoded data removed]",
      "text/plain": [
       "<Figure size 640x480 with 1 Axes>"
      ]
     },
     "metadata": {},
     "output_type": "display_data"
    }
   ],
   "source": [
    "# code here\n",
    "plt.imshow(x_test[0],cmap=plt.cm.binary)\n",
    "plt.show()"
   ]
  },
  {
   "cell_type": "markdown",
   "id": "966a6ef3-2663-4e19-bdbb-0bb9ce8e7da0",
   "metadata": {},
   "source": [
    "# Conclusion\n",
    "This is just barely scratching the surface of what's available to you, so start poking around [Tensorflow](https://www.tensorflow.org/api_docs/python/) and [Keras](https://keras.io/layers/about-keras-layers/) documentation.\n",
    "\n",
    "End of Lab.\n"
   ]
  }
 ],
 "metadata": {
  "kernelspec": {
   "display_name": "notebook",
   "language": "python",
   "name": "notebook"
  },
  "language_info": {
   "codemirror_mode": {
    "name": "ipython",
    "version": 3
   },
   "file_extension": ".py",
   "mimetype": "text/x-python",
   "name": "python",
   "nbconvert_exporter": "python",
   "pygments_lexer": "ipython3",
   "version": "3.11.4"
  }
 },
 "nbformat": 4,
 "nbformat_minor": 5
}
